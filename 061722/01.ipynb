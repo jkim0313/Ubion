{
 "cells": [
  {
   "cell_type": "code",
   "execution_count": 1,
   "metadata": {},
   "outputs": [],
   "source": [
    "import pandas as pd"
   ]
  },
  {
   "cell_type": "code",
   "execution_count": 6,
   "metadata": {},
   "outputs": [
    {
     "data": {
      "text/html": [
       "<div>\n",
       "<style scoped>\n",
       "    .dataframe tbody tr th:only-of-type {\n",
       "        vertical-align: middle;\n",
       "    }\n",
       "\n",
       "    .dataframe tbody tr th {\n",
       "        vertical-align: top;\n",
       "    }\n",
       "\n",
       "    .dataframe thead th {\n",
       "        text-align: right;\n",
       "    }\n",
       "</style>\n",
       "<table border=\"1\" class=\"dataframe\">\n",
       "  <thead>\n",
       "    <tr style=\"text-align: right;\">\n",
       "      <th></th>\n",
       "      <th>자치구코드(atdrc_code_se)</th>\n",
       "      <th>자치구명(atdrc_nm)</th>\n",
       "      <th>년월(년월)</th>\n",
       "      <th>총인구수(tot_popltn_co)</th>\n",
       "      <th>세대수(tot_hshld_co)</th>\n",
       "      <th>세대당인구(hshld_popltn_avrg_co)</th>\n",
       "      <th>남자인구수(male_popltn_co)</th>\n",
       "      <th>여자인구수(female_popltn_co)</th>\n",
       "      <th>적재일시(ldadng_dt)</th>\n",
       "    </tr>\n",
       "  </thead>\n",
       "  <tbody>\n",
       "    <tr>\n",
       "      <th>0</th>\n",
       "      <td>금천구</td>\n",
       "      <td>11110</td>\n",
       "      <td>201907</td>\n",
       "      <td>228755</td>\n",
       "      <td>171426</td>\n",
       "      <td>2.44</td>\n",
       "      <td>319062</td>\n",
       "      <td>118352</td>\n",
       "      <td>2018-01-05 16:52:25</td>\n",
       "    </tr>\n",
       "  </tbody>\n",
       "</table>\n",
       "</div>"
      ],
      "text/plain": [
       "  자치구코드(atdrc_code_se)  자치구명(atdrc_nm)  년월(년월)  총인구수(tot_popltn_co)  \\\n",
       "0                  금천구           11110  201907               228755   \n",
       "\n",
       "   세대수(tot_hshld_co)  세대당인구(hshld_popltn_avrg_co)  남자인구수(male_popltn_co)  \\\n",
       "0             171426                         2.44                 319062   \n",
       "\n",
       "   여자인구수(female_popltn_co)      적재일시(ldadng_dt)  \n",
       "0                   118352  2018-01-05 16:52:25  "
      ]
     },
     "execution_count": 6,
     "metadata": {},
     "output_type": "execute_result"
    }
   ],
   "source": [
    "# 데이터의 값이 한글일 경우 encoding='CP949'\n",
    "\n",
    "popu = pd.read_csv(\"../csv/주민등록 인구 및 세대현황.csv\", encoding='CP949')\n",
    "\n",
    "popu.head(1)"
   ]
  },
  {
   "cell_type": "code",
   "execution_count": null,
   "metadata": {},
   "outputs": [],
   "source": []
  }
 ],
 "metadata": {
  "kernelspec": {
   "display_name": "Python 3.10.1 64-bit",
   "language": "python",
   "name": "python3"
  },
  "language_info": {
   "codemirror_mode": {
    "name": "ipython",
    "version": 3
   },
   "file_extension": ".py",
   "mimetype": "text/x-python",
   "name": "python",
   "nbconvert_exporter": "python",
   "pygments_lexer": "ipython3",
   "version": "3.10.1"
  },
  "orig_nbformat": 4,
  "vscode": {
   "interpreter": {
    "hash": "664601c8c9e5ea170ac235a51849067b39cba8c284ace64cc1dec43cb5b20d30"
   }
  }
 },
 "nbformat": 4,
 "nbformat_minor": 2
}
