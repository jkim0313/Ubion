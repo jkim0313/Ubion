{
 "cells": [
  {
   "cell_type": "markdown",
   "metadata": {},
   "source": [
    "### mongoDB\n",
    "1. mongoDB 사용하려면 라이브러리 pymongo"
   ]
  },
  {
   "cell_type": "code",
   "execution_count": null,
   "metadata": {},
   "outputs": [],
   "source": [
    "pip install pymongo"
   ]
  },
  {
   "cell_type": "code",
   "execution_count": 3,
   "metadata": {},
   "outputs": [],
   "source": [
    "from pymongo import MongoClient\n",
    "import pprint"
   ]
  },
  {
   "cell_type": "code",
   "execution_count": 5,
   "metadata": {},
   "outputs": [],
   "source": [
    "client = MongoClient(\n",
    "    host = \"localhost\",\n",
    "    port = 27017\n",
    ")"
   ]
  },
  {
   "cell_type": "code",
   "execution_count": 6,
   "metadata": {},
   "outputs": [
    {
     "data": {
      "text/plain": [
       "['admin', 'config', 'local', 'ubion']"
      ]
     },
     "execution_count": 6,
     "metadata": {},
     "output_type": "execute_result"
    }
   ],
   "source": [
    "client.list_database_names()"
   ]
  },
  {
   "cell_type": "code",
   "execution_count": 7,
   "metadata": {},
   "outputs": [],
   "source": [
    "# 데이터베이스에 접근\n",
    "\n",
    "db = client[\"ubion\"]"
   ]
  },
  {
   "cell_type": "code",
   "execution_count": 8,
   "metadata": {},
   "outputs": [],
   "source": [
    "# 컬렉션 접근\n",
    "\n",
    "collection = db[\"test\"]"
   ]
  },
  {
   "cell_type": "code",
   "execution_count": 12,
   "metadata": {},
   "outputs": [
    {
     "data": {
      "text/plain": [
       "{'_id': ObjectId('62ac062e9e6dfc6af447d097'),\n",
       " 'loc': 'New York',\n",
       " 'deptno': 20.0,\n",
       " 'dname': 'sales'}"
      ]
     },
     "execution_count": 12,
     "metadata": {},
     "output_type": "execute_result"
    }
   ],
   "source": [
    "# 데이터 확인\n",
    "\n",
    "collection.find_one()"
   ]
  },
  {
   "cell_type": "code",
   "execution_count": 16,
   "metadata": {},
   "outputs": [
    {
     "data": {
      "text/plain": [
       "[{'_id': ObjectId('62ac084d9e6dfc6af447d099'),\n",
       "  'name': 'test2',\n",
       "  'loc': 'Dallas'}]"
      ]
     },
     "execution_count": 16,
     "metadata": {},
     "output_type": "execute_result"
    }
   ],
   "source": [
    "## find() 데이터의 형태를 list로 출력\n",
    "\n",
    "result = list(collection.find({\"name\":\"test2\"}))\n",
    "\n",
    "result"
   ]
  },
  {
   "cell_type": "code",
   "execution_count": 23,
   "metadata": {},
   "outputs": [],
   "source": [
    "# insert\n",
    "\n",
    "data = {\n",
    "    \"name\" : \"test\",\n",
    "    \"loc\" : \"sinlim\"\n",
    "}\n",
    "\n",
    "_id = collection.insert_one(data).inserted_id"
   ]
  },
  {
   "cell_type": "code",
   "execution_count": 18,
   "metadata": {},
   "outputs": [
    {
     "data": {
      "text/plain": [
       "[{'_id': ObjectId('62ac062e9e6dfc6af447d097'),\n",
       "  'loc': 'New York',\n",
       "  'deptno': 20.0,\n",
       "  'dname': 'sales'},\n",
       " {'_id': ObjectId('62ac084d9e6dfc6af447d099'),\n",
       "  'name': 'test2',\n",
       "  'loc': 'Dallas'},\n",
       " {'_id': ObjectId('62ac084d9e6dfc6af447d09a'), 'phone': '01098765432'},\n",
       " {'_id': ObjectId('62ac11ce9774a16bbc90008a'),\n",
       "  'name': 'test',\n",
       "  'loc': 'sinlim'}]"
      ]
     },
     "execution_count": 18,
     "metadata": {},
     "output_type": "execute_result"
    }
   ],
   "source": [
    "list(collection.find())"
   ]
  },
  {
   "cell_type": "code",
   "execution_count": 24,
   "metadata": {},
   "outputs": [
    {
     "data": {
      "text/plain": [
       "[{'_id': ObjectId('62ac129e9774a16bbc90008d'),\n",
       "  'name': 'test',\n",
       "  'loc': 'sinlim'}]"
      ]
     },
     "execution_count": 24,
     "metadata": {},
     "output_type": "execute_result"
    }
   ],
   "source": [
    "list(collection.find({\"_id\":_id}))"
   ]
  },
  {
   "cell_type": "code",
   "execution_count": 25,
   "metadata": {},
   "outputs": [
    {
     "data": {
      "text/plain": [
       "[{'_id': ObjectId('62ac062e9e6dfc6af447d097'),\n",
       "  'loc': 'New York',\n",
       "  'deptno': 20.0,\n",
       "  'dname': 'sales'},\n",
       " {'_id': ObjectId('62ac084d9e6dfc6af447d099'),\n",
       "  'name': 'test2',\n",
       "  'loc': 'Dallas'},\n",
       " {'_id': ObjectId('62ac084d9e6dfc6af447d09a'), 'phone': '01098765432'},\n",
       " {'_id': ObjectId('62ac11ce9774a16bbc90008a'),\n",
       "  'name': 'test',\n",
       "  'loc': 'sinlim'},\n",
       " {'_id': ObjectId('62ac125f9774a16bbc90008b'),\n",
       "  'name': 'test',\n",
       "  'loc': 'sinlim'},\n",
       " {'_id': ObjectId('62ac126a9774a16bbc90008c'),\n",
       "  'name': 'test',\n",
       "  'loc': 'sinlim'},\n",
       " {'_id': ObjectId('62ac129e9774a16bbc90008d'),\n",
       "  'name': 'test',\n",
       "  'loc': 'sinlim'}]"
      ]
     },
     "execution_count": 25,
     "metadata": {},
     "output_type": "execute_result"
    }
   ],
   "source": [
    "list(collection.find().sort(\"_id\"))"
   ]
  },
  {
   "cell_type": "code",
   "execution_count": 27,
   "metadata": {},
   "outputs": [
    {
     "data": {
      "text/plain": [
       "<pymongo.results.InsertManyResult at 0x25e61abc880>"
      ]
     },
     "execution_count": 27,
     "metadata": {},
     "output_type": "execute_result"
    }
   ],
   "source": [
    "## insert_many()\n",
    "\n",
    "data = [\n",
    "    {\n",
    "        \"phone\" : \"01043215678\",\n",
    "        \"agw\" : 30\n",
    "    },\n",
    "    {\n",
    "        \"password\" : \"asdf\",\n",
    "        \"id\" : \"admin\"\n",
    "    }\n",
    "]\n",
    "\n",
    "collection.insert_many(data)"
   ]
  },
  {
   "cell_type": "code",
   "execution_count": 32,
   "metadata": {},
   "outputs": [
    {
     "data": {
      "text/plain": [
       "<pymongo.results.UpdateResult at 0x25e61befcd0>"
      ]
     },
     "execution_count": 32,
     "metadata": {},
     "output_type": "execute_result"
    }
   ],
   "source": [
    "# 컬렉션에서 하나만 수정\n",
    "\n",
    "collection.update_one(\n",
    "    {\n",
    "        \"name\" : \"test\"\n",
    "    },\n",
    "    {\n",
    "        \"$set\" : {\n",
    "            \"loc\" : \"New York\"\n",
    "        }\n",
    "    }\n",
    ")"
   ]
  },
  {
   "cell_type": "code",
   "execution_count": 33,
   "metadata": {},
   "outputs": [
    {
     "data": {
      "text/plain": [
       "[{'_id': ObjectId('62ac11ce9774a16bbc90008a'),\n",
       "  'name': 'test',\n",
       "  'loc': 'New York'},\n",
       " {'_id': ObjectId('62ac125f9774a16bbc90008b'),\n",
       "  'name': 'test',\n",
       "  'loc': 'sinlim'},\n",
       " {'_id': ObjectId('62ac126a9774a16bbc90008c'),\n",
       "  'name': 'test',\n",
       "  'loc': 'sinlim'},\n",
       " {'_id': ObjectId('62ac129e9774a16bbc90008d'),\n",
       "  'name': 'test',\n",
       "  'loc': 'sinlim'}]"
      ]
     },
     "execution_count": 33,
     "metadata": {},
     "output_type": "execute_result"
    }
   ],
   "source": [
    "list(collection.find({\"name\" : \"test\"}))"
   ]
  },
  {
   "cell_type": "code",
   "execution_count": 34,
   "metadata": {},
   "outputs": [
    {
     "data": {
      "text/plain": [
       "<pymongo.results.UpdateResult at 0x25e61abc490>"
      ]
     },
     "execution_count": 34,
     "metadata": {},
     "output_type": "execute_result"
    }
   ],
   "source": [
    "# 컬렉션에서 여러개 수정\n",
    "\n",
    "collection.update_many(\n",
    "    {\n",
    "        \"name\" : \"test\"\n",
    "    },\n",
    "    {\n",
    "        \"$set\" : {\n",
    "            \"loc\" : \"New York\"\n",
    "        }\n",
    "    }\n",
    ")"
   ]
  },
  {
   "cell_type": "code",
   "execution_count": 35,
   "metadata": {},
   "outputs": [
    {
     "data": {
      "text/plain": [
       "[{'_id': ObjectId('62ac11ce9774a16bbc90008a'),\n",
       "  'name': 'test',\n",
       "  'loc': 'New York'},\n",
       " {'_id': ObjectId('62ac125f9774a16bbc90008b'),\n",
       "  'name': 'test',\n",
       "  'loc': 'New York'},\n",
       " {'_id': ObjectId('62ac126a9774a16bbc90008c'),\n",
       "  'name': 'test',\n",
       "  'loc': 'New York'},\n",
       " {'_id': ObjectId('62ac129e9774a16bbc90008d'),\n",
       "  'name': 'test',\n",
       "  'loc': 'New York'}]"
      ]
     },
     "execution_count": 35,
     "metadata": {},
     "output_type": "execute_result"
    }
   ],
   "source": [
    "list(collection.find({\"name\" : \"test\"}))"
   ]
  },
  {
   "cell_type": "code",
   "execution_count": 36,
   "metadata": {},
   "outputs": [
    {
     "data": {
      "text/plain": [
       "<pymongo.results.DeleteResult at 0x25e61bdec80>"
      ]
     },
     "execution_count": 36,
     "metadata": {},
     "output_type": "execute_result"
    }
   ],
   "source": [
    "# remove(cmd)였던 document 삭제기능 = pymongo에서 delete()\n",
    "\n",
    "collection.delete_one(\n",
    "    {\n",
    "        \"name\":\"test\"\n",
    "    }\n",
    ")"
   ]
  },
  {
   "cell_type": "code",
   "execution_count": 37,
   "metadata": {},
   "outputs": [
    {
     "data": {
      "text/plain": [
       "[{'_id': ObjectId('62ac125f9774a16bbc90008b'),\n",
       "  'name': 'test',\n",
       "  'loc': 'New York'},\n",
       " {'_id': ObjectId('62ac126a9774a16bbc90008c'),\n",
       "  'name': 'test',\n",
       "  'loc': 'New York'},\n",
       " {'_id': ObjectId('62ac129e9774a16bbc90008d'),\n",
       "  'name': 'test',\n",
       "  'loc': 'New York'}]"
      ]
     },
     "execution_count": 37,
     "metadata": {},
     "output_type": "execute_result"
    }
   ],
   "source": [
    "list(collection.find(\n",
    "    {\n",
    "        \"name\" : \"test\"\n",
    "    }\n",
    "))"
   ]
  },
  {
   "cell_type": "code",
   "execution_count": 38,
   "metadata": {},
   "outputs": [
    {
     "data": {
      "text/plain": [
       "<pymongo.results.DeleteResult at 0x25e61bdeb00>"
      ]
     },
     "execution_count": 38,
     "metadata": {},
     "output_type": "execute_result"
    }
   ],
   "source": [
    "collection.delete_many(\n",
    "    {\n",
    "        \"name\" : \"test\"\n",
    "    }\n",
    ")"
   ]
  },
  {
   "cell_type": "code",
   "execution_count": 39,
   "metadata": {},
   "outputs": [
    {
     "data": {
      "text/plain": [
       "<pymongo.cursor.Cursor at 0x25e61bdf160>"
      ]
     },
     "execution_count": 39,
     "metadata": {},
     "output_type": "execute_result"
    }
   ],
   "source": [
    "collection.find(\n",
    "    {\n",
    "        \"name\" : \"test\"\n",
    "    }\n",
    ")"
   ]
  },
  {
   "cell_type": "code",
   "execution_count": null,
   "metadata": {},
   "outputs": [],
   "source": []
  }
 ],
 "metadata": {
  "kernelspec": {
   "display_name": "Python 3.10.1 64-bit",
   "language": "python",
   "name": "python3"
  },
  "language_info": {
   "codemirror_mode": {
    "name": "ipython",
    "version": 3
   },
   "file_extension": ".py",
   "mimetype": "text/x-python",
   "name": "python",
   "nbconvert_exporter": "python",
   "pygments_lexer": "ipython3",
   "version": "3.10.1"
  },
  "orig_nbformat": 4,
  "vscode": {
   "interpreter": {
    "hash": "664601c8c9e5ea170ac235a51849067b39cba8c284ace64cc1dec43cb5b20d30"
   }
  }
 },
 "nbformat": 4,
 "nbformat_minor": 2
}
