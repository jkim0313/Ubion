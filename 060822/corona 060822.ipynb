{
 "cells": [
  {
   "cell_type": "code",
   "execution_count": 1,
   "metadata": {},
   "outputs": [
    {
     "name": "stdout",
     "output_type": "stream",
     "text": [
      "Requirement already satisfied: requests in c:\\users\\wndgj\\appdata\\local\\programs\\python\\python310\\lib\\site-packages (2.27.1)\n",
      "Requirement already satisfied: charset-normalizer~=2.0.0 in c:\\users\\wndgj\\appdata\\local\\programs\\python\\python310\\lib\\site-packages (from requests) (2.0.12)\n",
      "Requirement already satisfied: urllib3<1.27,>=1.21.1 in c:\\users\\wndgj\\appdata\\local\\programs\\python\\python310\\lib\\site-packages (from requests) (1.26.9)\n",
      "Requirement already satisfied: idna<4,>=2.5 in c:\\users\\wndgj\\appdata\\local\\programs\\python\\python310\\lib\\site-packages (from requests) (3.3)\n",
      "Requirement already satisfied: certifi>=2017.4.17 in c:\\users\\wndgj\\appdata\\local\\programs\\python\\python310\\lib\\site-packages (from requests) (2022.5.18.1)\n",
      "Note: you may need to restart the kernel to use updated packages.\n"
     ]
    },
    {
     "name": "stderr",
     "output_type": "stream",
     "text": [
      "WARNING: You are using pip version 21.2.4; however, version 22.1.2 is available.\n",
      "You should consider upgrading via the 'c:\\Users\\wndgj\\AppData\\Local\\Programs\\Python\\Python310\\python.exe -m pip install --upgrade pip' command.\n"
     ]
    }
   ],
   "source": [
    "pip install requests"
   ]
  },
  {
   "cell_type": "code",
   "execution_count": 2,
   "metadata": {},
   "outputs": [
    {
     "name": "stdout",
     "output_type": "stream",
     "text": [
      "Requirement already satisfied: xmltodict in c:\\users\\wndgj\\appdata\\local\\programs\\python\\python310\\lib\\site-packages (0.13.0)\n",
      "Note: you may need to restart the kernel to use updated packages.\n"
     ]
    },
    {
     "name": "stderr",
     "output_type": "stream",
     "text": [
      "WARNING: You are using pip version 21.2.4; however, version 22.1.2 is available.\n",
      "You should consider upgrading via the 'c:\\Users\\wndgj\\AppData\\Local\\Programs\\Python\\Python310\\python.exe -m pip install --upgrade pip' command.\n"
     ]
    }
   ],
   "source": [
    "pip install xmltodict"
   ]
  },
  {
   "cell_type": "code",
   "execution_count": 22,
   "metadata": {},
   "outputs": [],
   "source": [
    "import requests\n",
    "import pandas as pd\n",
    "import xmltodict\n",
    "from urllib import parse\n",
    "import json\n",
    "import pprint"
   ]
  },
  {
   "cell_type": "code",
   "execution_count": 23,
   "metadata": {},
   "outputs": [
    {
     "name": "stdout",
     "output_type": "stream",
     "text": [
      "[   {   'accDefRate': '3.239660237',\n",
      "        'accExamCnt': '268212',\n",
      "        'createDt': '2020-03-15 00:00:00.000',\n",
      "        'deathCnt': '75',\n",
      "        'decideCnt': '8162',\n",
      "        'seq': '56',\n",
      "        'stateDt': '20200315',\n",
      "        'stateTime': '00:00',\n",
      "        'updateDt': '2021-10-07 10:30:51.51'},\n",
      "    {   'accDefRate': '3.318000336',\n",
      "        'accExamCnt': '261335',\n",
      "        'createDt': '2020-03-14 00:00:00.000',\n",
      "        'deathCnt': '72',\n",
      "        'decideCnt': '8086',\n",
      "        'seq': '55',\n",
      "        'stateDt': '20200314',\n",
      "        'stateTime': '00:00',\n",
      "        'updateDt': '2021-10-07 10:30:51.51'},\n",
      "    {   'accDefRate': '3.458499309',\n",
      "        'accExamCnt': '248647',\n",
      "        'createDt': '2020-03-13 00:00:00.000',\n",
      "        'deathCnt': '67',\n",
      "        'decideCnt': '7979',\n",
      "        'seq': '54',\n",
      "        'stateDt': '20200313',\n",
      "        'stateTime': '00:00',\n",
      "        'updateDt': '2021-10-07 10:30:51.51'},\n",
      "    {   'accDefRate': '3.621744273',\n",
      "        'accExamCnt': '234998',\n",
      "        'createDt': '2020-03-12 00:00:00.000',\n",
      "        'deathCnt': '66',\n",
      "        'decideCnt': '7869',\n",
      "        'seq': '53',\n",
      "        'stateDt': '20200312',\n",
      "        'stateTime': '00:00',\n",
      "        'updateDt': '2021-10-07 10:30:51.51'},\n",
      "    {   'accDefRate': '3.804174536',\n",
      "        'accExamCnt': '222395',\n",
      "        'createDt': '2020-03-11 00:00:00.000',\n",
      "        'deathCnt': '60',\n",
      "        'decideCnt': '7755',\n",
      "        'seq': '52',\n",
      "        'stateDt': '20200311',\n",
      "        'stateTime': '00:00',\n",
      "        'updateDt': '2021-10-07 10:30:51.51'},\n",
      "    {   'accDefRate': '3.919308057',\n",
      "        'accExamCnt': '210144',\n",
      "        'createDt': '2020-03-10 00:00:00.000',\n",
      "        'deathCnt': '54',\n",
      "        'decideCnt': '7513',\n",
      "        'seq': '51',\n",
      "        'stateDt': '20200310',\n",
      "        'stateTime': '00:00',\n",
      "        'updateDt': '2021-10-07 10:30:51.51'}]\n",
      "None\n"
     ]
    }
   ],
   "source": [
    "\n",
    "url = 'http://openapi.data.go.kr/openapi/service/rest/Covid19/getCovid19InfStateJson'\n",
    "\n",
    "service_key = 'gubWoxNNSD1sRp9VSGIYqyKrcrHDsUQ1k9CZR8v5dtN6H1iLYDSP5rXXvtUX3pcc0tcxQlKUstclpX4uxJEO6Q%3D%3D'\n",
    "\n",
    "params ={'serviceKey' : parse.unquote(service_key), \n",
    "         'pageNo' : '1', \n",
    "         'numOfRows' : '10', \n",
    "         'startCreateDt' : '20200310', \n",
    "         'endCreateDt' : '20200315' }\n",
    "\n",
    "response = requests.get(url, params=params)\n",
    "result = json.dumps(xmltodict.parse(response.content), indent=4) # type -> string\n",
    "dict_result = eval(result)  # type -> dict\n",
    "rows = dict_result[\"response\"][\"body\"][\"items\"][\"item\"]\n",
    "pp = pprint.PrettyPrinter(indent=4)\n",
    "print(pp.pprint(rows))"
   ]
  },
  {
   "cell_type": "markdown",
   "metadata": {},
   "source": [
    "1. corona.csv 불러오기\n",
    "2. createDt을 기준으로 오름차순 정렬(기준이 되는 데이터를 수정)\n",
    "3. index의 값을 초기화(기존의 인덱스는 삭제)\n",
    "4. Unnamed: 0 컬럼을 삭제하고 원본 데이터 "
   ]
  },
  {
   "cell_type": "code",
   "execution_count": 24,
   "metadata": {},
   "outputs": [],
   "source": [
    "corona_df = pd.read_csv('C:/ubion/060822/csv/corona.csv')"
   ]
  },
  {
   "cell_type": "code",
   "execution_count": 25,
   "metadata": {},
   "outputs": [],
   "source": [
    "corona_df = corona_df.sort_values('createDt', ascending=True)"
   ]
  },
  {
   "cell_type": "code",
   "execution_count": 26,
   "metadata": {},
   "outputs": [],
   "source": [
    "corona_df.reset_index(drop=True, inplace=True)"
   ]
  },
  {
   "cell_type": "code",
   "execution_count": 27,
   "metadata": {},
   "outputs": [
    {
     "data": {
      "text/html": [
       "<div>\n",
       "<style scoped>\n",
       "    .dataframe tbody tr th:only-of-type {\n",
       "        vertical-align: middle;\n",
       "    }\n",
       "\n",
       "    .dataframe tbody tr th {\n",
       "        vertical-align: top;\n",
       "    }\n",
       "\n",
       "    .dataframe thead th {\n",
       "        text-align: right;\n",
       "    }\n",
       "</style>\n",
       "<table border=\"1\" class=\"dataframe\">\n",
       "  <thead>\n",
       "    <tr style=\"text-align: right;\">\n",
       "      <th></th>\n",
       "      <th>createDt</th>\n",
       "      <th>deathCnt</th>\n",
       "      <th>decideCnt</th>\n",
       "      <th>seq</th>\n",
       "      <th>stateDt</th>\n",
       "      <th>stateTime</th>\n",
       "      <th>updateDt</th>\n",
       "      <th>accExamCnt</th>\n",
       "      <th>accDefRate</th>\n",
       "    </tr>\n",
       "  </thead>\n",
       "  <tbody>\n",
       "    <tr>\n",
       "      <th>0</th>\n",
       "      <td>2020-03-10 00:00:00.000</td>\n",
       "      <td>54</td>\n",
       "      <td>7513</td>\n",
       "      <td>51</td>\n",
       "      <td>20200310</td>\n",
       "      <td>00:00</td>\n",
       "      <td>2021-10-07 10:30:51.51</td>\n",
       "      <td>210144.0</td>\n",
       "      <td>3.919308</td>\n",
       "    </tr>\n",
       "    <tr>\n",
       "      <th>1</th>\n",
       "      <td>2020-03-11 00:00:00.000</td>\n",
       "      <td>60</td>\n",
       "      <td>7755</td>\n",
       "      <td>52</td>\n",
       "      <td>20200311</td>\n",
       "      <td>00:00</td>\n",
       "      <td>2021-10-07 10:30:51.51</td>\n",
       "      <td>222395.0</td>\n",
       "      <td>3.804175</td>\n",
       "    </tr>\n",
       "    <tr>\n",
       "      <th>2</th>\n",
       "      <td>2020-03-12 00:00:00.000</td>\n",
       "      <td>66</td>\n",
       "      <td>7869</td>\n",
       "      <td>53</td>\n",
       "      <td>20200312</td>\n",
       "      <td>00:00</td>\n",
       "      <td>2021-10-07 10:30:51.51</td>\n",
       "      <td>234998.0</td>\n",
       "      <td>3.621744</td>\n",
       "    </tr>\n",
       "    <tr>\n",
       "      <th>3</th>\n",
       "      <td>2020-03-13 00:00:00.000</td>\n",
       "      <td>67</td>\n",
       "      <td>7979</td>\n",
       "      <td>54</td>\n",
       "      <td>20200313</td>\n",
       "      <td>00:00</td>\n",
       "      <td>2021-10-07 10:30:51.51</td>\n",
       "      <td>248647.0</td>\n",
       "      <td>3.458499</td>\n",
       "    </tr>\n",
       "    <tr>\n",
       "      <th>4</th>\n",
       "      <td>2020-03-14 00:00:00.000</td>\n",
       "      <td>72</td>\n",
       "      <td>8086</td>\n",
       "      <td>55</td>\n",
       "      <td>20200314</td>\n",
       "      <td>00:00</td>\n",
       "      <td>2021-10-07 10:30:51.51</td>\n",
       "      <td>261335.0</td>\n",
       "      <td>3.318000</td>\n",
       "    </tr>\n",
       "  </tbody>\n",
       "</table>\n",
       "</div>"
      ],
      "text/plain": [
       "                  createDt  deathCnt  decideCnt  seq   stateDt stateTime  \\\n",
       "0  2020-03-10 00:00:00.000        54       7513   51  20200310     00:00   \n",
       "1  2020-03-11 00:00:00.000        60       7755   52  20200311     00:00   \n",
       "2  2020-03-12 00:00:00.000        66       7869   53  20200312     00:00   \n",
       "3  2020-03-13 00:00:00.000        67       7979   54  20200313     00:00   \n",
       "4  2020-03-14 00:00:00.000        72       8086   55  20200314     00:00   \n",
       "\n",
       "                 updateDt  accExamCnt  accDefRate  \n",
       "0  2021-10-07 10:30:51.51    210144.0    3.919308  \n",
       "1  2021-10-07 10:30:51.51    222395.0    3.804175  \n",
       "2  2021-10-07 10:30:51.51    234998.0    3.621744  \n",
       "3  2021-10-07 10:30:51.51    248647.0    3.458499  \n",
       "4  2021-10-07 10:30:51.51    261335.0    3.318000  "
      ]
     },
     "execution_count": 27,
     "metadata": {},
     "output_type": "execute_result"
    }
   ],
   "source": [
    "corona_df.drop(['Unnamed: 0'], axis=1, inplace=True)\n",
    "\n",
    "corona_df.head()"
   ]
  },
  {
   "cell_type": "code",
   "execution_count": 29,
   "metadata": {},
   "outputs": [
    {
     "data": {
      "text/html": [
       "<div>\n",
       "<style scoped>\n",
       "    .dataframe tbody tr th:only-of-type {\n",
       "        vertical-align: middle;\n",
       "    }\n",
       "\n",
       "    .dataframe tbody tr th {\n",
       "        vertical-align: top;\n",
       "    }\n",
       "\n",
       "    .dataframe thead th {\n",
       "        text-align: right;\n",
       "    }\n",
       "</style>\n",
       "<table border=\"1\" class=\"dataframe\">\n",
       "  <thead>\n",
       "    <tr style=\"text-align: right;\">\n",
       "      <th></th>\n",
       "      <th>등록일시</th>\n",
       "      <th>사망자</th>\n",
       "      <th>확진자</th>\n",
       "      <th>게시글번호</th>\n",
       "      <th>기준일</th>\n",
       "      <th>기준시간</th>\n",
       "      <th>수정일시</th>\n",
       "      <th>누적의심자</th>\n",
       "      <th>누적확진률</th>\n",
       "    </tr>\n",
       "  </thead>\n",
       "  <tbody>\n",
       "    <tr>\n",
       "      <th>0</th>\n",
       "      <td>2020-03-10 00:00:00.000</td>\n",
       "      <td>54</td>\n",
       "      <td>7513</td>\n",
       "      <td>51</td>\n",
       "      <td>20200310</td>\n",
       "      <td>00:00</td>\n",
       "      <td>2021-10-07 10:30:51.51</td>\n",
       "      <td>210144.0</td>\n",
       "      <td>3.919308</td>\n",
       "    </tr>\n",
       "    <tr>\n",
       "      <th>1</th>\n",
       "      <td>2020-03-11 00:00:00.000</td>\n",
       "      <td>60</td>\n",
       "      <td>7755</td>\n",
       "      <td>52</td>\n",
       "      <td>20200311</td>\n",
       "      <td>00:00</td>\n",
       "      <td>2021-10-07 10:30:51.51</td>\n",
       "      <td>222395.0</td>\n",
       "      <td>3.804175</td>\n",
       "    </tr>\n",
       "    <tr>\n",
       "      <th>2</th>\n",
       "      <td>2020-03-12 00:00:00.000</td>\n",
       "      <td>66</td>\n",
       "      <td>7869</td>\n",
       "      <td>53</td>\n",
       "      <td>20200312</td>\n",
       "      <td>00:00</td>\n",
       "      <td>2021-10-07 10:30:51.51</td>\n",
       "      <td>234998.0</td>\n",
       "      <td>3.621744</td>\n",
       "    </tr>\n",
       "    <tr>\n",
       "      <th>3</th>\n",
       "      <td>2020-03-13 00:00:00.000</td>\n",
       "      <td>67</td>\n",
       "      <td>7979</td>\n",
       "      <td>54</td>\n",
       "      <td>20200313</td>\n",
       "      <td>00:00</td>\n",
       "      <td>2021-10-07 10:30:51.51</td>\n",
       "      <td>248647.0</td>\n",
       "      <td>3.458499</td>\n",
       "    </tr>\n",
       "    <tr>\n",
       "      <th>4</th>\n",
       "      <td>2020-03-14 00:00:00.000</td>\n",
       "      <td>72</td>\n",
       "      <td>8086</td>\n",
       "      <td>55</td>\n",
       "      <td>20200314</td>\n",
       "      <td>00:00</td>\n",
       "      <td>2021-10-07 10:30:51.51</td>\n",
       "      <td>261335.0</td>\n",
       "      <td>3.318000</td>\n",
       "    </tr>\n",
       "  </tbody>\n",
       "</table>\n",
       "</div>"
      ],
      "text/plain": [
       "                      등록일시  사망자   확진자  게시글번호       기준일   기준시간  \\\n",
       "0  2020-03-10 00:00:00.000   54  7513     51  20200310  00:00   \n",
       "1  2020-03-11 00:00:00.000   60  7755     52  20200311  00:00   \n",
       "2  2020-03-12 00:00:00.000   66  7869     53  20200312  00:00   \n",
       "3  2020-03-13 00:00:00.000   67  7979     54  20200313  00:00   \n",
       "4  2020-03-14 00:00:00.000   72  8086     55  20200314  00:00   \n",
       "\n",
       "                     수정일시     누적의심자     누적확진률  \n",
       "0  2021-10-07 10:30:51.51  210144.0  3.919308  \n",
       "1  2021-10-07 10:30:51.51  222395.0  3.804175  \n",
       "2  2021-10-07 10:30:51.51  234998.0  3.621744  \n",
       "3  2021-10-07 10:30:51.51  248647.0  3.458499  \n",
       "4  2021-10-07 10:30:51.51  261335.0  3.318000  "
      ]
     },
     "execution_count": 29,
     "metadata": {},
     "output_type": "execute_result"
    }
   ],
   "source": [
    "corona_df.columns = ['등록일시', '사망자', '확진자', '게시글번호', '기준일',\n",
    "                     '기준시간', '수정일시', '누적의심자', '누적확진률']\n",
    "\n",
    "corona_df.head()"
   ]
  },
  {
   "cell_type": "code",
   "execution_count": null,
   "metadata": {},
   "outputs": [],
   "source": []
  }
 ],
 "metadata": {
  "interpreter": {
   "hash": "664601c8c9e5ea170ac235a51849067b39cba8c284ace64cc1dec43cb5b20d30"
  },
  "kernelspec": {
   "display_name": "Python 3.10.1 64-bit",
   "language": "python",
   "name": "python3"
  },
  "language_info": {
   "codemirror_mode": {
    "name": "ipython",
    "version": 3
   },
   "file_extension": ".py",
   "mimetype": "text/x-python",
   "name": "python",
   "nbconvert_exporter": "python",
   "pygments_lexer": "ipython3",
   "version": "3.10.1"
  },
  "orig_nbformat": 4
 },
 "nbformat": 4,
 "nbformat_minor": 2
}
