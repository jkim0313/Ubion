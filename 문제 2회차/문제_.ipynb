{
 "cells": [
  {
   "cell_type": "markdown",
   "metadata": {},
   "source": [
    "## 1번 문제\n",
    "\n",
    "1. num_1 폴더의 tsv 파일을 데이터프레임으로 불러온다. \n",
    "2. 숫자 의미를 가지지 않은 order_id는 str의 형태로 변경한다. \n",
    "3. 가장 많이 주문을 한 item_name과 그 수량을 출력한다. \n",
    "4. item당 주문 총량을 구하고 바형 그래프로 시각화하여 출력한다. \n",
    "5. item_price가 object형태의 데이터임으로 float 형태로 변경한다. \n",
    "6. 주문당 평균 계산 금액을 출력한다. \n",
    "7. 각 아이템의 가격을 출력 후 가격 분포 그래프와 가격 히스토그램을 출력한다. \n",
    "8. \"Chicken Bowl\"을 2개 이상 주문한 고객들의 \"Chicken Bowl\" 메뉴의 총 주문 수량을 출력한다. \n"
   ]
  },
  {
   "cell_type": "code",
   "execution_count": null,
   "metadata": {},
   "outputs": [],
   "source": []
  },
  {
   "cell_type": "markdown",
   "metadata": {},
   "source": [
    "## 2번 문제\n",
    "\n",
    "1. num_2 폴더의 csv 파일을 데이터프레임으로 불러온다. \n",
    "2. 'beer_servings', 'spirit_servings', 'wine_servings', 'total_litres_of_pure_alcohol' 간의 상관관계 행렬을 구한다. \n",
    "3. 행렬 히트맵을 시각화 한다. \n",
    "4. 'beer_servings', 'spirit_servings', 'wine_servings', 'total_litres_of_pure_alcohol' 컬럼별 산점도 그래프를 표시한다. \n",
    "5. 국가별 술 소비량 대비 알콜 비율 컬럼을 추가하여 국가별 순위를 시각화하여 출력한다. "
   ]
  },
  {
   "cell_type": "code",
   "execution_count": null,
   "metadata": {},
   "outputs": [],
   "source": []
  },
  {
   "cell_type": "markdown",
   "metadata": {},
   "source": [
    "## 3번 문제\n",
    "\n",
    "1. num_3 폴더의 csv 파일을 데이터프레임으로 불러온다. \n",
    "2. uselog를 제외한 3개의 데이터 프레임을 조인 결합 후 결측치를 확인한다. \n",
    "3. 고객의 데이터를 'class_name', 'campaign_name', 'gernder', 'is_deleted'별 집계를 출력한다. \n",
    "4. 3번 과정과 같은 작업을 2019년 01월 01일부터 최근의 고객 데이터를 출력한다.\n",
    "5. 월별 'costomer_id' 이용 이력 데이터를 집계하여 출력한다. \n",
    "6. 이용 이력 데이터를 통하여 요일별 이용 여부를 계산하고 이용 여부가 4회 이상이면 1 아니면 0인 컬럼을 추가한다. 3\n",
    "7. 'end_date' 컬럼을 복사하여 'calc_date' 컬럼을 추가하고 결측데이터를 '20090430'로 변경한다. \n",
    "8. 회원의 기간을 계산하여 컬럼을 추가한다. \n"
   ]
  },
  {
   "cell_type": "code",
   "execution_count": null,
   "metadata": {},
   "outputs": [],
   "source": []
  }
 ],
 "metadata": {
  "interpreter": {
   "hash": "664601c8c9e5ea170ac235a51849067b39cba8c284ace64cc1dec43cb5b20d30"
  },
  "kernelspec": {
   "display_name": "Python 3.10.1 64-bit",
   "language": "python",
   "name": "python3"
  },
  "language_info": {
   "name": "python",
   "version": "3.10.1"
  },
  "orig_nbformat": 4
 },
 "nbformat": 4,
 "nbformat_minor": 2
}
