{
 "cells": [
  {
   "cell_type": "code",
   "execution_count": 78,
   "metadata": {},
   "outputs": [],
   "source": [
    "import pandas as pd\n",
    "import matplotlib.pyplot as plt\n",
    "import os"
   ]
  },
  {
   "cell_type": "code",
   "execution_count": 79,
   "metadata": {},
   "outputs": [
    {
     "data": {
      "text/plain": [
       "['201701_expense_list.csv',\n",
       " '201702_expense_list.csv',\n",
       " '201703_expense_list.csv',\n",
       " '201704_expense_list.csv',\n",
       " '201705_expense_list.csv',\n",
       " '201706_expense_list.csv',\n",
       " '201707_expense_list.csv',\n",
       " '201708_expense_list.csv',\n",
       " '201709_expense_list.csv',\n",
       " '201710_expense_list.csv',\n",
       " '201711_expense_list.csv',\n",
       " '201712_expense_list.csv']"
      ]
     },
     "execution_count": 79,
     "metadata": {},
     "output_type": "execute_result"
    }
   ],
   "source": [
    "df= pd.read_csv(\"C:/ubion/061322/csv/2017/201701_expense_list.csv\")\n",
    "df.head()\n",
    "\n",
    "files = os.listdir(\"./csv/2017\")\n",
    "files\n"
   ]
  },
  {
   "cell_type": "code",
   "execution_count": 80,
   "metadata": {},
   "outputs": [
    {
     "name": "stdout",
     "output_type": "stream",
     "text": [
      "5517\n",
      "5768\n",
      "6114\n",
      "5408\n",
      "5429\n",
      "6124\n",
      "5652\n",
      "5654\n",
      "5690\n",
      "5053\n",
      "6437\n",
      "7286\n"
     ]
    }
   ],
   "source": [
    "path = \"./csv/2017/\"\n",
    "\n",
    "df_2017 = pd.DataFrame()\n",
    "\n",
    "for file in files:\n",
    "    df = pd.read_csv(path+file)\n",
    "    print(len(df))\n",
    "    df_2017 = pd.concat([df_2017, df], ignore_index=True)\n"
   ]
  },
  {
   "cell_type": "code",
   "execution_count": 81,
   "metadata": {},
   "outputs": [
    {
     "data": {
      "text/plain": [
       "70132"
      ]
     },
     "execution_count": 81,
     "metadata": {},
     "output_type": "execute_result"
    }
   ],
   "source": [
    "len(df_2017)"
   ]
  },
  {
   "cell_type": "code",
   "execution_count": 82,
   "metadata": {},
   "outputs": [
    {
     "data": {
      "text/html": [
       "<div>\n",
       "<style scoped>\n",
       "    .dataframe tbody tr th:only-of-type {\n",
       "        vertical-align: middle;\n",
       "    }\n",
       "\n",
       "    .dataframe tbody tr th {\n",
       "        vertical-align: top;\n",
       "    }\n",
       "\n",
       "    .dataframe thead th {\n",
       "        text-align: right;\n",
       "    }\n",
       "</style>\n",
       "<table border=\"1\" class=\"dataframe\">\n",
       "  <thead>\n",
       "    <tr style=\"text-align: right;\">\n",
       "      <th></th>\n",
       "      <th>nid</th>\n",
       "      <th>title</th>\n",
       "      <th>url</th>\n",
       "      <th>dept_nm_lvl_1</th>\n",
       "      <th>dept_nm_lvl_2</th>\n",
       "      <th>dept_nm_lvl_3</th>\n",
       "      <th>dept_nm_lvl_4</th>\n",
       "      <th>dept_nm_lvl_5</th>\n",
       "      <th>exec_yr</th>\n",
       "      <th>exec_month</th>\n",
       "      <th>expense_budget</th>\n",
       "      <th>expense_execution</th>\n",
       "      <th>category</th>\n",
       "      <th>dept_nm_full</th>\n",
       "      <th>exec_dt</th>\n",
       "      <th>exec_loc</th>\n",
       "      <th>exec_purpose</th>\n",
       "      <th>target_nm</th>\n",
       "      <th>payment_method</th>\n",
       "      <th>exec_amount</th>\n",
       "    </tr>\n",
       "  </thead>\n",
       "  <tbody>\n",
       "    <tr>\n",
       "      <th>0</th>\n",
       "      <td>17506661</td>\n",
       "      <td>2019년1월 국제교류담당관 업무추진비 내역</td>\n",
       "      <td>http://opengov.seoul.go.kr/public/17506661</td>\n",
       "      <td>서울시본청</td>\n",
       "      <td>기획조정실</td>\n",
       "      <td>국제교류담당관</td>\n",
       "      <td></td>\n",
       "      <td></td>\n",
       "      <td>2019</td>\n",
       "      <td>1</td>\n",
       "      <td>NaN</td>\n",
       "      <td>NaN</td>\n",
       "      <td></td>\n",
       "      <td>기획조정실 국제교류담당관</td>\n",
       "      <td>2019-01-31 19:57</td>\n",
       "      <td>구이구이 서울특별시 중구 을지로 6</td>\n",
       "      <td>도시외교 기본계획 개선관련 연구용역 및 협력방안 논의 간담회</td>\n",
       "      <td>국제교류담당관 등 6명</td>\n",
       "      <td>카드</td>\n",
       "      <td>143000</td>\n",
       "    </tr>\n",
       "    <tr>\n",
       "      <th>1</th>\n",
       "      <td>17506661</td>\n",
       "      <td>2019년1월 국제교류담당관 업무추진비 내역</td>\n",
       "      <td>http://opengov.seoul.go.kr/public/17506661</td>\n",
       "      <td>서울시본청</td>\n",
       "      <td>기획조정실</td>\n",
       "      <td>국제교류담당관</td>\n",
       "      <td></td>\n",
       "      <td></td>\n",
       "      <td>2019</td>\n",
       "      <td>1</td>\n",
       "      <td>NaN</td>\n",
       "      <td>NaN</td>\n",
       "      <td></td>\n",
       "      <td>기획조정실 국제교류담당관</td>\n",
       "      <td>2019-01-31 12:39</td>\n",
       "      <td>왕비집 시청무교점 서울특별시 중구 무교로 19</td>\n",
       "      <td>서울평화포럼 준비위원회 구성 및 향후 추진방향 논의</td>\n",
       "      <td>국제교류담당관 등 3명</td>\n",
       "      <td>카드</td>\n",
       "      <td>24000</td>\n",
       "    </tr>\n",
       "    <tr>\n",
       "      <th>2</th>\n",
       "      <td>17506661</td>\n",
       "      <td>2019년1월 국제교류담당관 업무추진비 내역</td>\n",
       "      <td>http://opengov.seoul.go.kr/public/17506661</td>\n",
       "      <td>서울시본청</td>\n",
       "      <td>기획조정실</td>\n",
       "      <td>국제교류담당관</td>\n",
       "      <td></td>\n",
       "      <td></td>\n",
       "      <td>2019</td>\n",
       "      <td>1</td>\n",
       "      <td>NaN</td>\n",
       "      <td>NaN</td>\n",
       "      <td></td>\n",
       "      <td>기획조정실 국제교류담당관</td>\n",
       "      <td>2019-01-30 19:18</td>\n",
       "      <td>반포식스 서울 중구 무교동 24-2</td>\n",
       "      <td>중국 순방 지원 근무 관련 협의 간담회 비용 지급</td>\n",
       "      <td>중국팀장 등 6명</td>\n",
       "      <td>카드</td>\n",
       "      <td>84000</td>\n",
       "    </tr>\n",
       "    <tr>\n",
       "      <th>3</th>\n",
       "      <td>17506661</td>\n",
       "      <td>2019년1월 국제교류담당관 업무추진비 내역</td>\n",
       "      <td>http://opengov.seoul.go.kr/public/17506661</td>\n",
       "      <td>서울시본청</td>\n",
       "      <td>기획조정실</td>\n",
       "      <td>국제교류담당관</td>\n",
       "      <td></td>\n",
       "      <td></td>\n",
       "      <td>2019</td>\n",
       "      <td>1</td>\n",
       "      <td>NaN</td>\n",
       "      <td>NaN</td>\n",
       "      <td></td>\n",
       "      <td>기획조정실 국제교류담당관</td>\n",
       "      <td>2019-01-30 14:01</td>\n",
       "      <td>(주)에스지다인힐붓처스컷광화 서울  중구  세종대로  136</td>\n",
       "      <td>서울평화포럼(가칭) 연사 초청 등 관련 자문 간담회</td>\n",
       "      <td>국제관계대사 등 4명</td>\n",
       "      <td>카드</td>\n",
       "      <td>78000</td>\n",
       "    </tr>\n",
       "    <tr>\n",
       "      <th>4</th>\n",
       "      <td>17506661</td>\n",
       "      <td>2019년1월 국제교류담당관 업무추진비 내역</td>\n",
       "      <td>http://opengov.seoul.go.kr/public/17506661</td>\n",
       "      <td>서울시본청</td>\n",
       "      <td>기획조정실</td>\n",
       "      <td>국제교류담당관</td>\n",
       "      <td></td>\n",
       "      <td></td>\n",
       "      <td>2019</td>\n",
       "      <td>1</td>\n",
       "      <td>NaN</td>\n",
       "      <td>NaN</td>\n",
       "      <td></td>\n",
       "      <td>기획조정실 국제교류담당관</td>\n",
       "      <td>2019-01-29 20:10</td>\n",
       "      <td>주식회사 크라운에셋 서울 중구 남대문로7길 19</td>\n",
       "      <td>글로벌파트너스 기능 및 이관사업 범위 논의 간담회</td>\n",
       "      <td>국제교류담당관 등 10명</td>\n",
       "      <td>카드</td>\n",
       "      <td>251000</td>\n",
       "    </tr>\n",
       "  </tbody>\n",
       "</table>\n",
       "</div>"
      ],
      "text/plain": [
       "        nid                     title  \\\n",
       "0  17506661  2019년1월 국제교류담당관 업무추진비 내역   \n",
       "1  17506661  2019년1월 국제교류담당관 업무추진비 내역   \n",
       "2  17506661  2019년1월 국제교류담당관 업무추진비 내역   \n",
       "3  17506661  2019년1월 국제교류담당관 업무추진비 내역   \n",
       "4  17506661  2019년1월 국제교류담당관 업무추진비 내역   \n",
       "\n",
       "                                          url dept_nm_lvl_1 dept_nm_lvl_2  \\\n",
       "0  http://opengov.seoul.go.kr/public/17506661         서울시본청         기획조정실   \n",
       "1  http://opengov.seoul.go.kr/public/17506661         서울시본청         기획조정실   \n",
       "2  http://opengov.seoul.go.kr/public/17506661         서울시본청         기획조정실   \n",
       "3  http://opengov.seoul.go.kr/public/17506661         서울시본청         기획조정실   \n",
       "4  http://opengov.seoul.go.kr/public/17506661         서울시본청         기획조정실   \n",
       "\n",
       "  dept_nm_lvl_3 dept_nm_lvl_4 dept_nm_lvl_5  exec_yr  exec_month  \\\n",
       "0       국제교류담당관                                 2019           1   \n",
       "1       국제교류담당관                                 2019           1   \n",
       "2       국제교류담당관                                 2019           1   \n",
       "3       국제교류담당관                                 2019           1   \n",
       "4       국제교류담당관                                 2019           1   \n",
       "\n",
       "   expense_budget  expense_execution category   dept_nm_full  \\\n",
       "0             NaN                NaN           기획조정실 국제교류담당관   \n",
       "1             NaN                NaN           기획조정실 국제교류담당관   \n",
       "2             NaN                NaN           기획조정실 국제교류담당관   \n",
       "3             NaN                NaN           기획조정실 국제교류담당관   \n",
       "4             NaN                NaN           기획조정실 국제교류담당관   \n",
       "\n",
       "            exec_dt                           exec_loc  \\\n",
       "0  2019-01-31 19:57                구이구이 서울특별시 중구 을지로 6   \n",
       "1  2019-01-31 12:39          왕비집 시청무교점 서울특별시 중구 무교로 19   \n",
       "2  2019-01-30 19:18                반포식스 서울 중구 무교동 24-2   \n",
       "3  2019-01-30 14:01  (주)에스지다인힐붓처스컷광화 서울  중구  세종대로  136   \n",
       "4  2019-01-29 20:10         주식회사 크라운에셋 서울 중구 남대문로7길 19   \n",
       "\n",
       "                        exec_purpose      target_nm payment_method  \\\n",
       "0  도시외교 기본계획 개선관련 연구용역 및 협력방안 논의 간담회   국제교류담당관 등 6명             카드   \n",
       "1       서울평화포럼 준비위원회 구성 및 향후 추진방향 논의   국제교류담당관 등 3명             카드   \n",
       "2        중국 순방 지원 근무 관련 협의 간담회 비용 지급      중국팀장 등 6명             카드   \n",
       "3       서울평화포럼(가칭) 연사 초청 등 관련 자문 간담회    국제관계대사 등 4명             카드   \n",
       "4        글로벌파트너스 기능 및 이관사업 범위 논의 간담회  국제교류담당관 등 10명             카드   \n",
       "\n",
       "   exec_amount  \n",
       "0       143000  \n",
       "1        24000  \n",
       "2        84000  \n",
       "3        78000  \n",
       "4       251000  "
      ]
     },
     "execution_count": 82,
     "metadata": {},
     "output_type": "execute_result"
    }
   ],
   "source": [
    "## csv\n",
    "## json -> dict 형식의 파일\n",
    "## xlsx\n",
    "\n",
    "## json 파일 로드\n",
    "json_sample = pd.read_json(\"./csv/2019/201901_expense_list.json\")\n",
    "json_sample.head()"
   ]
  },
  {
   "cell_type": "code",
   "execution_count": 83,
   "metadata": {},
   "outputs": [
    {
     "name": "stdout",
     "output_type": "stream",
     "text": [
      "Requirement already satisfied: openpyxl in c:\\users\\wndgj\\appdata\\local\\programs\\python\\python310\\lib\\site-packages (3.0.10)Note: you may need to restart the kernel to use updated packages.\n"
     ]
    },
    {
     "name": "stderr",
     "output_type": "stream",
     "text": [
      "WARNING: You are using pip version 21.2.4; however, version 22.1.2 is available.\n",
      "You should consider upgrading via the 'c:\\Users\\wndgj\\AppData\\Local\\Programs\\Python\\Python310\\python.exe -m pip install --upgrade pip' command.\n"
     ]
    },
    {
     "name": "stdout",
     "output_type": "stream",
     "text": [
      "\n",
      "Requirement already satisfied: et-xmlfile in c:\\users\\wndgj\\appdata\\local\\programs\\python\\python310\\lib\\site-packages (from openpyxl) (1.1.0)\n"
     ]
    }
   ],
   "source": [
    "pip install openpyxl"
   ]
  },
  {
   "cell_type": "code",
   "execution_count": 84,
   "metadata": {},
   "outputs": [
    {
     "data": {
      "text/html": [
       "<div>\n",
       "<style scoped>\n",
       "    .dataframe tbody tr th:only-of-type {\n",
       "        vertical-align: middle;\n",
       "    }\n",
       "\n",
       "    .dataframe tbody tr th {\n",
       "        vertical-align: top;\n",
       "    }\n",
       "\n",
       "    .dataframe thead th {\n",
       "        text-align: right;\n",
       "    }\n",
       "</style>\n",
       "<table border=\"1\" class=\"dataframe\">\n",
       "  <thead>\n",
       "    <tr style=\"text-align: right;\">\n",
       "      <th></th>\n",
       "      <th>nid</th>\n",
       "      <th>title</th>\n",
       "      <th>url</th>\n",
       "      <th>dept_nm_lvl_1</th>\n",
       "      <th>dept_nm_lvl_2</th>\n",
       "      <th>dept_nm_lvl_3</th>\n",
       "      <th>dept_nm_lvl_4</th>\n",
       "      <th>dept_nm_lvl_5</th>\n",
       "      <th>exec_yr</th>\n",
       "      <th>exec_month</th>\n",
       "      <th>expense_budget</th>\n",
       "      <th>expense_execution</th>\n",
       "      <th>category</th>\n",
       "      <th>dept_nm_full</th>\n",
       "      <th>exec_dt</th>\n",
       "      <th>exec_loc</th>\n",
       "      <th>exec_purpose</th>\n",
       "      <th>target_nm</th>\n",
       "      <th>payment_method</th>\n",
       "      <th>exec_amount</th>\n",
       "    </tr>\n",
       "  </thead>\n",
       "  <tbody>\n",
       "    <tr>\n",
       "      <th>0</th>\n",
       "      <td>21789676</td>\n",
       "      <td>2020년 1월 사업소 서울식물원 시설운영과 업무추진비 - 부서운영</td>\n",
       "      <td>http://opengov.seoul.go.kr/public/21789676</td>\n",
       "      <td>사업소</td>\n",
       "      <td>서울식물원</td>\n",
       "      <td>시설운영과</td>\n",
       "      <td>NaN</td>\n",
       "      <td>NaN</td>\n",
       "      <td>2020</td>\n",
       "      <td>1</td>\n",
       "      <td>NaN</td>\n",
       "      <td>NaN</td>\n",
       "      <td>NaN</td>\n",
       "      <td>푸른도시국 서울식물원 시설운영과</td>\n",
       "      <td>2020-01-22 10:25</td>\n",
       "      <td>코코호도마곡나루역점(강서구 마곡중앙5로 6)</td>\n",
       "      <td>부서 전출직원 간담회 비용</td>\n",
       "      <td>이형선 외 3인</td>\n",
       "      <td>카드</td>\n",
       "      <td>30000</td>\n",
       "    </tr>\n",
       "    <tr>\n",
       "      <th>1</th>\n",
       "      <td>21762080</td>\n",
       "      <td>2020년 1월 사업소 상수도사업본부 남부수도사업소 행정지원과 업무추진비 - 부서운영</td>\n",
       "      <td>http://opengov.seoul.go.kr/public/21762080</td>\n",
       "      <td>사업소</td>\n",
       "      <td>상수도사업본부</td>\n",
       "      <td>남부수도사업소</td>\n",
       "      <td>행정지원과</td>\n",
       "      <td>NaN</td>\n",
       "      <td>2020</td>\n",
       "      <td>1</td>\n",
       "      <td>NaN</td>\n",
       "      <td>NaN</td>\n",
       "      <td>NaN</td>\n",
       "      <td>남부수도사업소 행정지원과</td>\n",
       "      <td>2020-01-29 08:55</td>\n",
       "      <td>㈜한국문화진흥(강남구 강남대로 636, 두원빌딩2층)</td>\n",
       "      <td>2020년도 1월 생일자 격려상품 구매</td>\n",
       "      <td>1월 직원 생일자 12명</td>\n",
       "      <td>카드</td>\n",
       "      <td>216720</td>\n",
       "    </tr>\n",
       "    <tr>\n",
       "      <th>2</th>\n",
       "      <td>21762080</td>\n",
       "      <td>2020년 1월 사업소 상수도사업본부 남부수도사업소 행정지원과 업무추진비 - 부서운영</td>\n",
       "      <td>http://opengov.seoul.go.kr/public/21762080</td>\n",
       "      <td>사업소</td>\n",
       "      <td>상수도사업본부</td>\n",
       "      <td>남부수도사업소</td>\n",
       "      <td>행정지원과</td>\n",
       "      <td>NaN</td>\n",
       "      <td>2020</td>\n",
       "      <td>1</td>\n",
       "      <td>NaN</td>\n",
       "      <td>NaN</td>\n",
       "      <td>NaN</td>\n",
       "      <td>남부수도사업소 행정지원과</td>\n",
       "      <td>2020-01-28 12:05</td>\n",
       "      <td>스시사도(영등포구 여의대방로23길 20)</td>\n",
       "      <td>2020년 상반기 학교아리수 음수대 감면 간담회 경비지급</td>\n",
       "      <td>박영준,이상봉,이재욱,이대영,김춘근,김근태,박화준,박병국,조승용,전윤수</td>\n",
       "      <td>카드</td>\n",
       "      <td>124000</td>\n",
       "    </tr>\n",
       "    <tr>\n",
       "      <th>3</th>\n",
       "      <td>21762080</td>\n",
       "      <td>2020년 1월 사업소 상수도사업본부 남부수도사업소 행정지원과 업무추진비 - 부서운영</td>\n",
       "      <td>http://opengov.seoul.go.kr/public/21762080</td>\n",
       "      <td>사업소</td>\n",
       "      <td>상수도사업본부</td>\n",
       "      <td>남부수도사업소</td>\n",
       "      <td>행정지원과</td>\n",
       "      <td>NaN</td>\n",
       "      <td>2020</td>\n",
       "      <td>1</td>\n",
       "      <td>NaN</td>\n",
       "      <td>NaN</td>\n",
       "      <td>NaN</td>\n",
       "      <td>남부수도사업소 행정지원과</td>\n",
       "      <td>2020-01-23 11:59</td>\n",
       "      <td>올갱이나라(영등포구 대방천로 234)</td>\n",
       "      <td>2020년 설연휴기간 급수대책 및 수질관리 간담회 경비지급</td>\n",
       "      <td>김지형,신민철,서영식,최신,이혜숙,여종순</td>\n",
       "      <td>카드</td>\n",
       "      <td>48000</td>\n",
       "    </tr>\n",
       "    <tr>\n",
       "      <th>4</th>\n",
       "      <td>21762080</td>\n",
       "      <td>2020년 1월 사업소 상수도사업본부 남부수도사업소 행정지원과 업무추진비 - 부서운영</td>\n",
       "      <td>http://opengov.seoul.go.kr/public/21762080</td>\n",
       "      <td>사업소</td>\n",
       "      <td>상수도사업본부</td>\n",
       "      <td>남부수도사업소</td>\n",
       "      <td>행정지원과</td>\n",
       "      <td>NaN</td>\n",
       "      <td>2020</td>\n",
       "      <td>1</td>\n",
       "      <td>NaN</td>\n",
       "      <td>NaN</td>\n",
       "      <td>NaN</td>\n",
       "      <td>남부수도사업소 행정지원과</td>\n",
       "      <td>2020-01-23 14:45</td>\n",
       "      <td>두드림유통(동작구 보라매로19길 8)</td>\n",
       "      <td>2020년 민원실 직원 격려 물품구매 경비지급</td>\n",
       "      <td>해당사항없음</td>\n",
       "      <td>카드</td>\n",
       "      <td>63310</td>\n",
       "    </tr>\n",
       "  </tbody>\n",
       "</table>\n",
       "</div>"
      ],
      "text/plain": [
       "        nid                                            title  \\\n",
       "0  21789676            2020년 1월 사업소 서울식물원 시설운영과 업무추진비 - 부서운영   \n",
       "1  21762080  2020년 1월 사업소 상수도사업본부 남부수도사업소 행정지원과 업무추진비 - 부서운영   \n",
       "2  21762080  2020년 1월 사업소 상수도사업본부 남부수도사업소 행정지원과 업무추진비 - 부서운영   \n",
       "3  21762080  2020년 1월 사업소 상수도사업본부 남부수도사업소 행정지원과 업무추진비 - 부서운영   \n",
       "4  21762080  2020년 1월 사업소 상수도사업본부 남부수도사업소 행정지원과 업무추진비 - 부서운영   \n",
       "\n",
       "                                          url dept_nm_lvl_1 dept_nm_lvl_2  \\\n",
       "0  http://opengov.seoul.go.kr/public/21789676           사업소         서울식물원   \n",
       "1  http://opengov.seoul.go.kr/public/21762080           사업소       상수도사업본부   \n",
       "2  http://opengov.seoul.go.kr/public/21762080           사업소       상수도사업본부   \n",
       "3  http://opengov.seoul.go.kr/public/21762080           사업소       상수도사업본부   \n",
       "4  http://opengov.seoul.go.kr/public/21762080           사업소       상수도사업본부   \n",
       "\n",
       "  dept_nm_lvl_3 dept_nm_lvl_4 dept_nm_lvl_5  exec_yr  exec_month  \\\n",
       "0         시설운영과           NaN           NaN     2020           1   \n",
       "1       남부수도사업소         행정지원과           NaN     2020           1   \n",
       "2       남부수도사업소         행정지원과           NaN     2020           1   \n",
       "3       남부수도사업소         행정지원과           NaN     2020           1   \n",
       "4       남부수도사업소         행정지원과           NaN     2020           1   \n",
       "\n",
       "   expense_budget  expense_execution category       dept_nm_full  \\\n",
       "0             NaN                NaN      NaN  푸른도시국 서울식물원 시설운영과   \n",
       "1             NaN                NaN      NaN      남부수도사업소 행정지원과   \n",
       "2             NaN                NaN      NaN      남부수도사업소 행정지원과   \n",
       "3             NaN                NaN      NaN      남부수도사업소 행정지원과   \n",
       "4             NaN                NaN      NaN      남부수도사업소 행정지원과   \n",
       "\n",
       "            exec_dt                       exec_loc  \\\n",
       "0  2020-01-22 10:25       코코호도마곡나루역점(강서구 마곡중앙5로 6)   \n",
       "1  2020-01-29 08:55  ㈜한국문화진흥(강남구 강남대로 636, 두원빌딩2층)   \n",
       "2  2020-01-28 12:05         스시사도(영등포구 여의대방로23길 20)   \n",
       "3  2020-01-23 11:59           올갱이나라(영등포구 대방천로 234)   \n",
       "4  2020-01-23 14:45           두드림유통(동작구 보라매로19길 8)   \n",
       "\n",
       "                       exec_purpose                                target_nm  \\\n",
       "0                    부서 전출직원 간담회 비용                                 이형선 외 3인   \n",
       "1             2020년도 1월 생일자 격려상품 구매                            1월 직원 생일자 12명   \n",
       "2   2020년 상반기 학교아리수 음수대 감면 간담회 경비지급  박영준,이상봉,이재욱,이대영,김춘근,김근태,박화준,박병국,조승용,전윤수   \n",
       "3  2020년 설연휴기간 급수대책 및 수질관리 간담회 경비지급                   김지형,신민철,서영식,최신,이혜숙,여종순   \n",
       "4         2020년 민원실 직원 격려 물품구매 경비지급                                   해당사항없음   \n",
       "\n",
       "  payment_method  exec_amount  \n",
       "0             카드        30000  \n",
       "1             카드       216720  \n",
       "2             카드       124000  \n",
       "3             카드        48000  \n",
       "4             카드        63310  "
      ]
     },
     "execution_count": 84,
     "metadata": {},
     "output_type": "execute_result"
    }
   ],
   "source": [
    "xlsx_sample = pd.read_excel(\"./csv/2020/202001_expense_list.xlsx\")\n",
    "\n",
    "xlsx_sample.head()"
   ]
  },
  {
   "cell_type": "markdown",
   "metadata": {},
   "source": [
    "### df_2018 데이터프레임 만들기\n",
    "1. 파일의 이름들을 리스트화 해서 변수에 지정\n",
    "2. 파일들이 있는 상대경로를 지정 \n",
    "3. df_2018이라는 빈 데이터프레임을 생성\n",
    "4. 파일 이름들이 있는 리스트를 For문을 이용하여 반복\n",
    "    1. df라는 변수에 파일을 로드\n",
    "    2. df_2018 concat()함수를 이용하여 행 추가하는 작업"
   ]
  },
  {
   "cell_type": "code",
   "execution_count": 85,
   "metadata": {},
   "outputs": [
    {
     "data": {
      "text/plain": [
       "['201801_expense_list.csv',\n",
       " '201802_expense_list.csv',\n",
       " '201803_expense_list.csv',\n",
       " '201804_expense_list.csv',\n",
       " '201805_expense_list.csv',\n",
       " '201806_expense_list.csv',\n",
       " '201807_expense_list.csv',\n",
       " '201808_expense_list.csv',\n",
       " '201809_expense_list.csv',\n",
       " '201810_expense_list.csv',\n",
       " '201811_expense_list.csv',\n",
       " '201812_expense_list.csv']"
      ]
     },
     "execution_count": 85,
     "metadata": {},
     "output_type": "execute_result"
    }
   ],
   "source": [
    "## 2018 csv 파일 데이터프레임 만들기\n",
    "\n",
    "file_list = os.listdir(\"./csv/2018/\")\n",
    "file_list"
   ]
  },
  {
   "cell_type": "code",
   "execution_count": 86,
   "metadata": {},
   "outputs": [
    {
     "data": {
      "text/plain": [
       "72218"
      ]
     },
     "execution_count": 86,
     "metadata": {},
     "output_type": "execute_result"
    }
   ],
   "source": [
    "path = \"./csv/2018/\"\n",
    "\n",
    "df_2018 = pd.DataFrame()\n",
    "\n",
    "for file in file_list:\n",
    "    df = pd.read_csv(path+file)\n",
    "    df_2018 = pd.concat([df_2018, df], ignore_index=True)\n",
    "    \n",
    "len(df_2018)"
   ]
  },
  {
   "cell_type": "code",
   "execution_count": 87,
   "metadata": {},
   "outputs": [
    {
     "data": {
      "text/plain": [
       "74207"
      ]
     },
     "execution_count": 87,
     "metadata": {},
     "output_type": "execute_result"
    }
   ],
   "source": [
    "## 2019 csv 파일 데이터프레임 만들기\n",
    "\n",
    "file_list= os.listdir(\"./csv/2019/\")\n",
    "path = \"./csv/2019/\"\n",
    "\n",
    "df_2019 = pd.DataFrame()\n",
    "\n",
    "for file in file_list:\n",
    "    df = pd.read_json(path+file)\n",
    "    df_2019 = pd.concat([df_2019, df], ignore_index=True)\n",
    "    \n",
    "len(df_2019)"
   ]
  },
  {
   "cell_type": "code",
   "execution_count": 88,
   "metadata": {},
   "outputs": [
    {
     "data": {
      "text/plain": [
       "70862"
      ]
     },
     "execution_count": 88,
     "metadata": {},
     "output_type": "execute_result"
    }
   ],
   "source": [
    "## 2020 excel 파일 데이터프레임 만들기\n",
    "\n",
    "file_list= os.listdir(\"./csv/2020/\")\n",
    "path = \"./csv/2020/\"\n",
    "\n",
    "df_2020 = pd.DataFrame()\n",
    "\n",
    "for file in file_list:\n",
    "    df = pd.read_excel(path+file)\n",
    "    df_2020= pd.concat([df_2020, df], ignore_index=True)\n",
    "    \n",
    "len(df_2020)"
   ]
  },
  {
   "cell_type": "code",
   "execution_count": 89,
   "metadata": {},
   "outputs": [
    {
     "data": {
      "text/plain": [
       "['202101_expense_list.csv',\n",
       " '202102_expense_list.csv',\n",
       " '202103_expense_list.csv',\n",
       " '202104_expense_list.csv',\n",
       " '202105_expense_list.csv',\n",
       " '202106_expense_list.csv',\n",
       " '202107_expense_list.csv',\n",
       " '202108_expense_list.csv',\n",
       " '202109_expense_list.csv',\n",
       " '202110_expense_list.csv',\n",
       " '202111_expense_list.csv',\n",
       " '202112_expense_list.csv']"
      ]
     },
     "execution_count": 89,
     "metadata": {},
     "output_type": "execute_result"
    }
   ],
   "source": [
    "path = \"./csv/2021/\"\n",
    "files = os.listdir(path)\n",
    "\n",
    "files = [file for file in files if file.endswith(\".csv\")]\n",
    "files\n",
    "\n"
   ]
  },
  {
   "cell_type": "code",
   "execution_count": 90,
   "metadata": {},
   "outputs": [
    {
     "data": {
      "text/plain": [
       "83819"
      ]
     },
     "execution_count": 90,
     "metadata": {},
     "output_type": "execute_result"
    }
   ],
   "source": [
    "df_2021 = pd.DataFrame()\n",
    "\n",
    "for file in files :\n",
    "    df = pd.read_csv(path+file)\n",
    "    df_2021 = pd.concat([df_2021, df], ignore_index=True)\n",
    "                        \n",
    "len(df_2021)"
   ]
  },
  {
   "cell_type": "code",
   "execution_count": 91,
   "metadata": {},
   "outputs": [
    {
     "name": "stdout",
     "output_type": "stream",
     "text": [
      "<class 'pandas.core.frame.DataFrame'>\n",
      "RangeIndex: 70132 entries, 0 to 70131\n",
      "Data columns (total 20 columns):\n",
      " #   Column             Non-Null Count  Dtype  \n",
      "---  ------             --------------  -----  \n",
      " 0   nid                70132 non-null  int64  \n",
      " 1   title              70132 non-null  object \n",
      " 2   url                70132 non-null  object \n",
      " 3   dept_nm_lvl_1      70132 non-null  object \n",
      " 4   dept_nm_lvl_2      70074 non-null  object \n",
      " 5   dept_nm_lvl_3      61262 non-null  object \n",
      " 6   dept_nm_lvl_4      17939 non-null  object \n",
      " 7   dept_nm_lvl_5      3474 non-null   object \n",
      " 8   exec_yr            70132 non-null  int64  \n",
      " 9   exec_month         70132 non-null  int64  \n",
      " 10  expense_budget     3108 non-null   float64\n",
      " 11  expense_execution  2805 non-null   float64\n",
      " 12  category           1259 non-null   object \n",
      " 13  dept_nm_full       70053 non-null  object \n",
      " 14  exec_dt            70132 non-null  object \n",
      " 15  exec_loc           69360 non-null  object \n",
      " 16  exec_purpose       70110 non-null  object \n",
      " 17  target_nm          69597 non-null  object \n",
      " 18  payment_method     69929 non-null  object \n",
      " 19  exec_amount        70132 non-null  int64  \n",
      "dtypes: float64(2), int64(4), object(14)\n",
      "memory usage: 10.7+ MB\n"
     ]
    }
   ],
   "source": [
    "## 2017년도 데이터만 가지고 작업\n",
    "\n",
    "df_2017.info()"
   ]
  },
  {
   "cell_type": "code",
   "execution_count": 92,
   "metadata": {},
   "outputs": [
    {
     "data": {
      "text/plain": [
       "nid                      0\n",
       "title                    0\n",
       "url                      0\n",
       "dept_nm_lvl_1            0\n",
       "dept_nm_lvl_2           58\n",
       "dept_nm_lvl_3         8870\n",
       "dept_nm_lvl_4        52193\n",
       "dept_nm_lvl_5        66658\n",
       "exec_yr                  0\n",
       "exec_month               0\n",
       "expense_budget       67024\n",
       "expense_execution    67327\n",
       "category             68873\n",
       "dept_nm_full            79\n",
       "exec_dt                  0\n",
       "exec_loc               772\n",
       "exec_purpose            22\n",
       "target_nm              535\n",
       "payment_method         203\n",
       "exec_amount              0\n",
       "dtype: int64"
      ]
     },
     "execution_count": 92,
     "metadata": {},
     "output_type": "execute_result"
    }
   ],
   "source": [
    "df_2017.isna().sum()"
   ]
  },
  {
   "cell_type": "code",
   "execution_count": 93,
   "metadata": {},
   "outputs": [
    {
     "data": {
      "text/plain": [
       "서울시본청          42483\n",
       "사업소            16817\n",
       "소방재난본부(소방서)     7551\n",
       "의회사무처           3281\n",
       "Name: dept_nm_lvl_1, dtype: int64"
      ]
     },
     "execution_count": 93,
     "metadata": {},
     "output_type": "execute_result"
    }
   ],
   "source": [
    "df_2017[\"dept_nm_lvl_1\"].value_counts()\n"
   ]
  },
  {
   "cell_type": "code",
   "execution_count": 94,
   "metadata": {},
   "outputs": [
    {
     "data": {
      "text/plain": [
       "exec_month\n",
       "1      710368860\n",
       "2      712679864\n",
       "3      737250454\n",
       "4      635265805\n",
       "5      647582378\n",
       "6      758257342\n",
       "7      701604626\n",
       "8      661174850\n",
       "9      806170700\n",
       "10     637219943\n",
       "11     843619171\n",
       "12    1225747394\n",
       "Name: exec_amount, dtype: int64"
      ]
     },
     "execution_count": 94,
     "metadata": {},
     "output_type": "execute_result"
    }
   ],
   "source": [
    "month_2017 = df_2017.groupby(\"exec_month\").sum()[\"exec_amount\"]\n",
    "\n",
    "month_2017"
   ]
  },
  {
   "cell_type": "code",
   "execution_count": 95,
   "metadata": {},
   "outputs": [
    {
     "data": {
      "image/png": "[encoded data removed]",
      "text/plain": [
       "<Figure size 432x288 with 1 Axes>"
      ]
     },
     "metadata": {
      "needs_background": "light"
     },
     "output_type": "display_data"
    }
   ],
   "source": [
    "x = month_2017.index\n",
    "y = month_2017.tolist()\n",
    "\n",
    "plt.bar(x,y)\n",
    "plt.show()"
   ]
  },
  {
   "cell_type": "code",
   "execution_count": 96,
   "metadata": {},
   "outputs": [
    {
     "data": {
      "text/plain": [
       "371238"
      ]
     },
     "execution_count": 96,
     "metadata": {},
     "output_type": "execute_result"
    }
   ],
   "source": [
    "total_df = pd.concat([df_2017, df_2018, df_2019, df_2020, df_2021], ignore_index=True)\n",
    "\n",
    "len(total_df)"
   ]
  },
  {
   "cell_type": "markdown",
   "metadata": {},
   "source": [
    "### total_df\n",
    "1. 컬럼명 변경\n",
    "2. 컬럼 삭제 \n",
    "3. 연도별 집행금액 시각화\n",
    "4. 그룹화(연도, 월) 집행금액의 합계 시각화"
   ]
  },
  {
   "cell_type": "code",
   "execution_count": 97,
   "metadata": {},
   "outputs": [
    {
     "data": {
      "text/html": [
       "<div>\n",
       "<style scoped>\n",
       "    .dataframe tbody tr th:only-of-type {\n",
       "        vertical-align: middle;\n",
       "    }\n",
       "\n",
       "    .dataframe tbody tr th {\n",
       "        vertical-align: top;\n",
       "    }\n",
       "\n",
       "    .dataframe thead th {\n",
       "        text-align: right;\n",
       "    }\n",
       "</style>\n",
       "<table border=\"1\" class=\"dataframe\">\n",
       "  <thead>\n",
       "    <tr style=\"text-align: right;\">\n",
       "      <th></th>\n",
       "      <th>nid</th>\n",
       "      <th>제목</th>\n",
       "      <th>url</th>\n",
       "      <th>부서레벨1</th>\n",
       "      <th>부서레벨2</th>\n",
       "      <th>부서레벨3</th>\n",
       "      <th>부서레벨4</th>\n",
       "      <th>부서레벨5</th>\n",
       "      <th>집행연도</th>\n",
       "      <th>집행월</th>\n",
       "      <th>...</th>\n",
       "      <th>집행</th>\n",
       "      <th>구분</th>\n",
       "      <th>부서명</th>\n",
       "      <th>집행일시</th>\n",
       "      <th>집행장소</th>\n",
       "      <th>집행목적</th>\n",
       "      <th>대상인원</th>\n",
       "      <th>결제방법</th>\n",
       "      <th>집행금액</th>\n",
       "      <th>비목</th>\n",
       "    </tr>\n",
       "  </thead>\n",
       "  <tbody>\n",
       "    <tr>\n",
       "      <th>0</th>\n",
       "      <td>11430252</td>\n",
       "      <td>2017년 1월 장애인복지정책과 업무추진비 집행내역</td>\n",
       "      <td>http://opengov.seoul.go.kr/public/11430252</td>\n",
       "      <td>서울시본청</td>\n",
       "      <td>복지본부</td>\n",
       "      <td>장애인복지정책과</td>\n",
       "      <td>NaN</td>\n",
       "      <td>NaN</td>\n",
       "      <td>2017</td>\n",
       "      <td>1</td>\n",
       "      <td>...</td>\n",
       "      <td>NaN</td>\n",
       "      <td>NaN</td>\n",
       "      <td>복지본부 장애인복지정책과</td>\n",
       "      <td>2017-01-26 13:10</td>\n",
       "      <td>동해일식 (중구 무교동)</td>\n",
       "      <td>기본소득과 장애인복지 논의간담회</td>\n",
       "      <td>장애인복지정책팀장 외 2명</td>\n",
       "      <td>카드</td>\n",
       "      <td>76000</td>\n",
       "      <td>NaN</td>\n",
       "    </tr>\n",
       "    <tr>\n",
       "      <th>1</th>\n",
       "      <td>11430252</td>\n",
       "      <td>2017년 1월 장애인복지정책과 업무추진비 집행내역</td>\n",
       "      <td>http://opengov.seoul.go.kr/public/11430252</td>\n",
       "      <td>서울시본청</td>\n",
       "      <td>복지본부</td>\n",
       "      <td>장애인복지정책과</td>\n",
       "      <td>NaN</td>\n",
       "      <td>NaN</td>\n",
       "      <td>2017</td>\n",
       "      <td>1</td>\n",
       "      <td>...</td>\n",
       "      <td>NaN</td>\n",
       "      <td>NaN</td>\n",
       "      <td>복지본부 장애인복지정책과</td>\n",
       "      <td>2017-01-25 22:41</td>\n",
       "      <td>김앤장 (중구 무교로)</td>\n",
       "      <td>장애인단체 활동지원 논의간담회</td>\n",
       "      <td>장애인복지정책과장 외 3명</td>\n",
       "      <td>카드</td>\n",
       "      <td>102000</td>\n",
       "      <td>NaN</td>\n",
       "    </tr>\n",
       "  </tbody>\n",
       "</table>\n",
       "<p>2 rows × 21 columns</p>\n",
       "</div>"
      ],
      "text/plain": [
       "        nid                            제목  \\\n",
       "0  11430252  2017년 1월 장애인복지정책과 업무추진비 집행내역   \n",
       "1  11430252  2017년 1월 장애인복지정책과 업무추진비 집행내역   \n",
       "\n",
       "                                          url  부서레벨1 부서레벨2     부서레벨3 부서레벨4  \\\n",
       "0  http://opengov.seoul.go.kr/public/11430252  서울시본청  복지본부  장애인복지정책과   NaN   \n",
       "1  http://opengov.seoul.go.kr/public/11430252  서울시본청  복지본부  장애인복지정책과   NaN   \n",
       "\n",
       "  부서레벨5  집행연도  집행월  ...  집행   구분            부서명              집행일시  \\\n",
       "0   NaN  2017    1  ... NaN  NaN  복지본부 장애인복지정책과  2017-01-26 13:10   \n",
       "1   NaN  2017    1  ... NaN  NaN  복지본부 장애인복지정책과  2017-01-25 22:41   \n",
       "\n",
       "            집행장소               집행목적            대상인원 결제방법    집행금액   비목  \n",
       "0  동해일식 (중구 무교동)  기본소득과 장애인복지 논의간담회  장애인복지정책팀장 외 2명   카드   76000  NaN  \n",
       "1   김앤장 (중구 무교로)   장애인단체 활동지원 논의간담회  장애인복지정책과장 외 3명   카드  102000  NaN  \n",
       "\n",
       "[2 rows x 21 columns]"
      ]
     },
     "execution_count": 97,
     "metadata": {},
     "output_type": "execute_result"
    }
   ],
   "source": [
    "total_df.columns = [\"nid\", \"제목\", \"url\", \"부서레벨1\", \"부서레벨2\", \n",
    "                    \"부서레벨3\", \"부서레벨4\", \"부서레벨5\", \"집행연도\", \n",
    "                    \"집행월\", \"예산\", \"집행\", \"구분\", \"부서명\", \"집행일시\", \n",
    "                    \"집행장소\", \"집행목적\", \"대상인원\", \"결제방법\", \n",
    "                    \"집행금액\", \"비목\"]\n",
    "\n",
    "total_df.head(2)"
   ]
  },
  {
   "cell_type": "code",
   "execution_count": 98,
   "metadata": {},
   "outputs": [
    {
     "data": {
      "text/html": [
       "<div>\n",
       "<style scoped>\n",
       "    .dataframe tbody tr th:only-of-type {\n",
       "        vertical-align: middle;\n",
       "    }\n",
       "\n",
       "    .dataframe tbody tr th {\n",
       "        vertical-align: top;\n",
       "    }\n",
       "\n",
       "    .dataframe thead th {\n",
       "        text-align: right;\n",
       "    }\n",
       "</style>\n",
       "<table border=\"1\" class=\"dataframe\">\n",
       "  <thead>\n",
       "    <tr style=\"text-align: right;\">\n",
       "      <th></th>\n",
       "      <th>nid</th>\n",
       "      <th>제목</th>\n",
       "      <th>url</th>\n",
       "      <th>부서레벨1</th>\n",
       "      <th>부서레벨2</th>\n",
       "      <th>집행연도</th>\n",
       "      <th>집행월</th>\n",
       "      <th>부서명</th>\n",
       "      <th>집행일시</th>\n",
       "      <th>집행장소</th>\n",
       "      <th>집행목적</th>\n",
       "      <th>대상인원</th>\n",
       "      <th>결제방법</th>\n",
       "      <th>집행금액</th>\n",
       "    </tr>\n",
       "  </thead>\n",
       "  <tbody>\n",
       "    <tr>\n",
       "      <th>0</th>\n",
       "      <td>11430252</td>\n",
       "      <td>2017년 1월 장애인복지정책과 업무추진비 집행내역</td>\n",
       "      <td>http://opengov.seoul.go.kr/public/11430252</td>\n",
       "      <td>서울시본청</td>\n",
       "      <td>복지본부</td>\n",
       "      <td>2017</td>\n",
       "      <td>1</td>\n",
       "      <td>복지본부 장애인복지정책과</td>\n",
       "      <td>2017-01-26 13:10</td>\n",
       "      <td>동해일식 (중구 무교동)</td>\n",
       "      <td>기본소득과 장애인복지 논의간담회</td>\n",
       "      <td>장애인복지정책팀장 외 2명</td>\n",
       "      <td>카드</td>\n",
       "      <td>76000</td>\n",
       "    </tr>\n",
       "    <tr>\n",
       "      <th>1</th>\n",
       "      <td>11430252</td>\n",
       "      <td>2017년 1월 장애인복지정책과 업무추진비 집행내역</td>\n",
       "      <td>http://opengov.seoul.go.kr/public/11430252</td>\n",
       "      <td>서울시본청</td>\n",
       "      <td>복지본부</td>\n",
       "      <td>2017</td>\n",
       "      <td>1</td>\n",
       "      <td>복지본부 장애인복지정책과</td>\n",
       "      <td>2017-01-25 22:41</td>\n",
       "      <td>김앤장 (중구 무교로)</td>\n",
       "      <td>장애인단체 활동지원 논의간담회</td>\n",
       "      <td>장애인복지정책과장 외 3명</td>\n",
       "      <td>카드</td>\n",
       "      <td>102000</td>\n",
       "    </tr>\n",
       "  </tbody>\n",
       "</table>\n",
       "</div>"
      ],
      "text/plain": [
       "        nid                            제목  \\\n",
       "0  11430252  2017년 1월 장애인복지정책과 업무추진비 집행내역   \n",
       "1  11430252  2017년 1월 장애인복지정책과 업무추진비 집행내역   \n",
       "\n",
       "                                          url  부서레벨1 부서레벨2  집행연도  집행월  \\\n",
       "0  http://opengov.seoul.go.kr/public/11430252  서울시본청  복지본부  2017    1   \n",
       "1  http://opengov.seoul.go.kr/public/11430252  서울시본청  복지본부  2017    1   \n",
       "\n",
       "             부서명              집행일시           집행장소               집행목적  \\\n",
       "0  복지본부 장애인복지정책과  2017-01-26 13:10  동해일식 (중구 무교동)  기본소득과 장애인복지 논의간담회   \n",
       "1  복지본부 장애인복지정책과  2017-01-25 22:41   김앤장 (중구 무교로)   장애인단체 활동지원 논의간담회   \n",
       "\n",
       "             대상인원 결제방법    집행금액  \n",
       "0  장애인복지정책팀장 외 2명   카드   76000  \n",
       "1  장애인복지정책과장 외 3명   카드  102000  "
      ]
     },
     "execution_count": 98,
     "metadata": {},
     "output_type": "execute_result"
    }
   ],
   "source": [
    "total_df = total_df.drop([\"부서레벨3\", \"부서레벨4\", \"부서레벨5\", \"예산\", \"집행\", \"구분\", \"비목\"], axis=1)\n",
    "\n",
    "total_df.head(2)"
   ]
  },
  {
   "cell_type": "code",
   "execution_count": 99,
   "metadata": {},
   "outputs": [
    {
     "data": {
      "text/plain": [
       "집행연도\n",
       "2017     9076941387\n",
       "2018     9937556542\n",
       "2019    10532330632\n",
       "2020     9808440264\n",
       "2021     9255689656\n",
       "Name: 집행금액, dtype: int64"
      ]
     },
     "execution_count": 99,
     "metadata": {},
     "output_type": "execute_result"
    }
   ],
   "source": [
    "yearly_amount = total_df.groupby(\"집행연도\").sum()[\"집행금액\"]\n",
    "\n",
    "yearly_amount"
   ]
  },
  {
   "cell_type": "code",
   "execution_count": 100,
   "metadata": {},
   "outputs": [
    {
     "data": {
      "image/png": "[encoded data removed]",
      "text/plain": [
       "<Figure size 432x288 with 1 Axes>"
      ]
     },
     "metadata": {
      "needs_background": "light"
     },
     "output_type": "display_data"
    }
   ],
   "source": [
    "x = yearly_amount.index\n",
    "y = yearly_amount.tolist()\n",
    "\n",
    "plt.bar(x, y)\n",
    "plt.show()"
   ]
  },
  {
   "cell_type": "code",
   "execution_count": 121,
   "metadata": {},
   "outputs": [],
   "source": [
    "year_month_total = total_df.groupby([\"집행연도\", \"집행월\"]).sum()[\"집행금액\"]"
   ]
  },
  {
   "cell_type": "code",
   "execution_count": 122,
   "metadata": {},
   "outputs": [
    {
     "data": {
      "text/html": [
       "<div>\n",
       "<style scoped>\n",
       "    .dataframe tbody tr th:only-of-type {\n",
       "        vertical-align: middle;\n",
       "    }\n",
       "\n",
       "    .dataframe tbody tr th {\n",
       "        vertical-align: top;\n",
       "    }\n",
       "\n",
       "    .dataframe thead tr th {\n",
       "        text-align: left;\n",
       "    }\n",
       "\n",
       "    .dataframe thead tr:last-of-type th {\n",
       "        text-align: right;\n",
       "    }\n",
       "</style>\n",
       "<table border=\"1\" class=\"dataframe\">\n",
       "  <thead>\n",
       "    <tr>\n",
       "      <th></th>\n",
       "      <th colspan=\"5\" halign=\"left\">집행금액</th>\n",
       "    </tr>\n",
       "    <tr>\n",
       "      <th>집행연도</th>\n",
       "      <th>2017</th>\n",
       "      <th>2018</th>\n",
       "      <th>2019</th>\n",
       "      <th>2020</th>\n",
       "      <th>2021</th>\n",
       "    </tr>\n",
       "    <tr>\n",
       "      <th>집행월</th>\n",
       "      <th></th>\n",
       "      <th></th>\n",
       "      <th></th>\n",
       "      <th></th>\n",
       "      <th></th>\n",
       "    </tr>\n",
       "  </thead>\n",
       "  <tbody>\n",
       "    <tr>\n",
       "      <th>1</th>\n",
       "      <td>710368860</td>\n",
       "      <td>735587570</td>\n",
       "      <td>882512749</td>\n",
       "      <td>776731595</td>\n",
       "      <td>451098185</td>\n",
       "    </tr>\n",
       "    <tr>\n",
       "      <th>2</th>\n",
       "      <td>712679864</td>\n",
       "      <td>769360005</td>\n",
       "      <td>768931868</td>\n",
       "      <td>759694988</td>\n",
       "      <td>611418633</td>\n",
       "    </tr>\n",
       "    <tr>\n",
       "      <th>3</th>\n",
       "      <td>737250454</td>\n",
       "      <td>761059010</td>\n",
       "      <td>816280447</td>\n",
       "      <td>662143473</td>\n",
       "      <td>698362267</td>\n",
       "    </tr>\n",
       "    <tr>\n",
       "      <th>4</th>\n",
       "      <td>635265805</td>\n",
       "      <td>703781418</td>\n",
       "      <td>814657376</td>\n",
       "      <td>752513810</td>\n",
       "      <td>606388459</td>\n",
       "    </tr>\n",
       "    <tr>\n",
       "      <th>5</th>\n",
       "      <td>647582378</td>\n",
       "      <td>669044701</td>\n",
       "      <td>747256509</td>\n",
       "      <td>770802340</td>\n",
       "      <td>639039670</td>\n",
       "    </tr>\n",
       "    <tr>\n",
       "      <th>6</th>\n",
       "      <td>758257342</td>\n",
       "      <td>690652154</td>\n",
       "      <td>775945999</td>\n",
       "      <td>913814872</td>\n",
       "      <td>735812580</td>\n",
       "    </tr>\n",
       "    <tr>\n",
       "      <th>7</th>\n",
       "      <td>701604626</td>\n",
       "      <td>788926477</td>\n",
       "      <td>881725566</td>\n",
       "      <td>821051025</td>\n",
       "      <td>613015838</td>\n",
       "    </tr>\n",
       "    <tr>\n",
       "      <th>8</th>\n",
       "      <td>661174850</td>\n",
       "      <td>730290532</td>\n",
       "      <td>762251087</td>\n",
       "      <td>589831097</td>\n",
       "      <td>591177484</td>\n",
       "    </tr>\n",
       "    <tr>\n",
       "      <th>9</th>\n",
       "      <td>806170700</td>\n",
       "      <td>769404957</td>\n",
       "      <td>841641708</td>\n",
       "      <td>776747261</td>\n",
       "      <td>800143993</td>\n",
       "    </tr>\n",
       "    <tr>\n",
       "      <th>10</th>\n",
       "      <td>637219943</td>\n",
       "      <td>827022975</td>\n",
       "      <td>861865780</td>\n",
       "      <td>760075068</td>\n",
       "      <td>860936842</td>\n",
       "    </tr>\n",
       "    <tr>\n",
       "      <th>11</th>\n",
       "      <td>843619171</td>\n",
       "      <td>960310221</td>\n",
       "      <td>915992092</td>\n",
       "      <td>878275658</td>\n",
       "      <td>1203966624</td>\n",
       "    </tr>\n",
       "    <tr>\n",
       "      <th>12</th>\n",
       "      <td>1225747394</td>\n",
       "      <td>1532116522</td>\n",
       "      <td>1463269451</td>\n",
       "      <td>1346759077</td>\n",
       "      <td>1444329081</td>\n",
       "    </tr>\n",
       "  </tbody>\n",
       "</table>\n",
       "</div>"
      ],
      "text/plain": [
       "            집행금액                                                \n",
       "집행연도        2017        2018        2019        2020        2021\n",
       "집행월                                                             \n",
       "1      710368860   735587570   882512749   776731595   451098185\n",
       "2      712679864   769360005   768931868   759694988   611418633\n",
       "3      737250454   761059010   816280447   662143473   698362267\n",
       "4      635265805   703781418   814657376   752513810   606388459\n",
       "5      647582378   669044701   747256509   770802340   639039670\n",
       "6      758257342   690652154   775945999   913814872   735812580\n",
       "7      701604626   788926477   881725566   821051025   613015838\n",
       "8      661174850   730290532   762251087   589831097   591177484\n",
       "9      806170700   769404957   841641708   776747261   800143993\n",
       "10     637219943   827022975   861865780   760075068   860936842\n",
       "11     843619171   960310221   915992092   878275658  1203966624\n",
       "12    1225747394  1532116522  1463269451  1346759077  1444329081"
      ]
     },
     "execution_count": 122,
     "metadata": {},
     "output_type": "execute_result"
    }
   ],
   "source": [
    "year_month_amount = pd.pivot_table(total_df, index=[\"집행월\"], columns=[\"집행연도\"], \n",
    "                                   values=[\"집행금액\"], aggfunc='sum')\n",
    "\n",
    "year_month_amount"
   ]
  },
  {
   "cell_type": "code",
   "execution_count": 123,
   "metadata": {},
   "outputs": [
    {
     "data": {
      "text/plain": [
       "<AxesSubplot:xlabel='집행월'>"
      ]
     },
     "execution_count": 123,
     "metadata": {},
     "output_type": "execute_result"
    },
    {
     "data": {
      "image/png": "[encoded data removed]",
      "text/plain": [
       "<Figure size 1080x1080 with 1 Axes>"
      ]
     },
     "metadata": {
      "needs_background": "light"
     },
     "output_type": "display_data"
    }
   ],
   "source": [
    "(year_month_amount).plot.bar(rot=0, figsize=(15, 15))"
   ]
  },
  {
   "cell_type": "code",
   "execution_count": 124,
   "metadata": {},
   "outputs": [
    {
     "data": {
      "text/plain": [
       "<AxesSubplot:xlabel='집행월'>"
      ]
     },
     "execution_count": 124,
     "metadata": {},
     "output_type": "execute_result"
    },
    {
     "data": {
      "image/png": "[encoded data removed]",
      "text/plain": [
       "<Figure size 1080x1080 with 1 Axes>"
      ]
     },
     "metadata": {
      "needs_background": "light"
     },
     "output_type": "display_data"
    }
   ],
   "source": [
    "import matplotlib\n",
    "\n",
    "matplotlib.rcParams['font.family'] = 'Malgun Gothic'\n",
    "matplotlib.rcParams['axes.unicode_minus'] = False\n",
    "\n",
    "(year_month_amount).plot.bar(rot=0, figsize=(15,15))"
   ]
  },
  {
   "cell_type": "code",
   "execution_count": 142,
   "metadata": {},
   "outputs": [
    {
     "data": {
      "text/html": [
       "<div>\n",
       "<style scoped>\n",
       "    .dataframe tbody tr th:only-of-type {\n",
       "        vertical-align: middle;\n",
       "    }\n",
       "\n",
       "    .dataframe tbody tr th {\n",
       "        vertical-align: top;\n",
       "    }\n",
       "\n",
       "    .dataframe thead tr th {\n",
       "        text-align: left;\n",
       "    }\n",
       "\n",
       "    .dataframe thead tr:last-of-type th {\n",
       "        text-align: right;\n",
       "    }\n",
       "</style>\n",
       "<table border=\"1\" class=\"dataframe\">\n",
       "  <thead>\n",
       "    <tr>\n",
       "      <th></th>\n",
       "      <th colspan=\"5\" halign=\"left\">집행금액</th>\n",
       "    </tr>\n",
       "    <tr>\n",
       "      <th>집행연도</th>\n",
       "      <th>2017</th>\n",
       "      <th>2018</th>\n",
       "      <th>2019</th>\n",
       "      <th>2020</th>\n",
       "      <th>2021</th>\n",
       "    </tr>\n",
       "    <tr>\n",
       "      <th>부서레벨1</th>\n",
       "      <th></th>\n",
       "      <th></th>\n",
       "      <th></th>\n",
       "      <th></th>\n",
       "      <th></th>\n",
       "    </tr>\n",
       "  </thead>\n",
       "  <tbody>\n",
       "    <tr>\n",
       "      <th>사업소</th>\n",
       "      <td>120432.199322</td>\n",
       "      <td>124290.371469</td>\n",
       "      <td>127433.368751</td>\n",
       "      <td>129315.618291</td>\n",
       "      <td>111246.799981</td>\n",
       "    </tr>\n",
       "    <tr>\n",
       "      <th>서울시본청</th>\n",
       "      <td>119812.339642</td>\n",
       "      <td>130286.126921</td>\n",
       "      <td>134381.767970</td>\n",
       "      <td>126863.255869</td>\n",
       "      <td>95567.304657</td>\n",
       "    </tr>\n",
       "    <tr>\n",
       "      <th>소방재난본부(소방서)</th>\n",
       "      <td>215503.983578</td>\n",
       "      <td>226244.982045</td>\n",
       "      <td>230013.657973</td>\n",
       "      <td>237717.797878</td>\n",
       "      <td>208762.748234</td>\n",
       "    </tr>\n",
       "    <tr>\n",
       "      <th>의회사무처</th>\n",
       "      <td>101912.491923</td>\n",
       "      <td>104341.926548</td>\n",
       "      <td>121310.818857</td>\n",
       "      <td>117736.563900</td>\n",
       "      <td>95456.857930</td>\n",
       "    </tr>\n",
       "  </tbody>\n",
       "</table>\n",
       "</div>"
      ],
      "text/plain": [
       "                      집행금액                                               \\\n",
       "집행연도                  2017           2018           2019           2020   \n",
       "부서레벨1                                                                     \n",
       "사업소          120432.199322  124290.371469  127433.368751  129315.618291   \n",
       "서울시본청        119812.339642  130286.126921  134381.767970  126863.255869   \n",
       "소방재난본부(소방서)  215503.983578  226244.982045  230013.657973  237717.797878   \n",
       "의회사무처        101912.491923  104341.926548  121310.818857  117736.563900   \n",
       "\n",
       "                            \n",
       "집행연도                  2021  \n",
       "부서레벨1                       \n",
       "사업소          111246.799981  \n",
       "서울시본청         95567.304657  \n",
       "소방재난본부(소방서)  208762.748234  \n",
       "의회사무처         95456.857930  "
      ]
     },
     "execution_count": 142,
     "metadata": {},
     "output_type": "execute_result"
    }
   ],
   "source": [
    "## pivot_table -> 부서레벨1을 기준으로 연도별 집행금액 평균값 테이블 생성\n",
    "\n",
    "dpt_lvl1 = pd.pivot_table(total_df, index=[\"부서레벨1\"], columns=[\"집행연도\"], \n",
    "                          values=[\"집행금액\"], aggfunc='mean').fillna(0)\n",
    "\n",
    "# dpt_lvl1 = pd.pivot_table(total_df, index=[\"부서레벨1\"], columns=[\"집행연도\"], \n",
    "#                           values=[\"집행금액\"], aggfunc='mean', fill_value=0)\n",
    "\n",
    "dpt_lvl1"
   ]
  },
  {
   "cell_type": "code",
   "execution_count": 143,
   "metadata": {},
   "outputs": [
    {
     "data": {
      "text/plain": [
       "<AxesSubplot:ylabel='부서레벨1'>"
      ]
     },
     "execution_count": 143,
     "metadata": {},
     "output_type": "execute_result"
    },
    {
     "data": {
      "image/png": "[encoded data removed]",
      "text/plain": [
       "<Figure size 1080x1080 with 1 Axes>"
      ]
     },
     "metadata": {
      "needs_background": "light"
     },
     "output_type": "display_data"
    }
   ],
   "source": [
    "(dpt_lvl1).plot.barh(rot=0, figsize=(15,15))"
   ]
  },
  {
   "cell_type": "code",
   "execution_count": 144,
   "metadata": {},
   "outputs": [
    {
     "data": {
      "text/plain": [
       "서울시본청          220630\n",
       "사업소             91935\n",
       "소방재난본부(소방서)     38401\n",
       "의회사무처           20272\n",
       "Name: 부서레벨1, dtype: int64"
      ]
     },
     "execution_count": 144,
     "metadata": {},
     "output_type": "execute_result"
    }
   ],
   "source": [
    "## total_df[\"부서레벨1\"] 데이터 중에 '사업소,'를 삭제\n",
    "\n",
    "total_df[\"부서레벨1\"].value_counts()"
   ]
  },
  {
   "cell_type": "code",
   "execution_count": 141,
   "metadata": {},
   "outputs": [],
   "source": [
    "total_df[\"부서레벨1\"] = total_df[\"부서레벨1\"].str.replace(\",\", \"\")"
   ]
  },
  {
   "cell_type": "code",
   "execution_count": null,
   "metadata": {},
   "outputs": [],
   "source": []
  }
 ],
 "metadata": {
  "interpreter": {
   "hash": "664601c8c9e5ea170ac235a51849067b39cba8c284ace64cc1dec43cb5b20d30"
  },
  "kernelspec": {
   "display_name": "Python 3.10.1 64-bit",
   "language": "python",
   "name": "python3"
  },
  "language_info": {
   "codemirror_mode": {
    "name": "ipython",
    "version": 3
   },
   "file_extension": ".py",
   "mimetype": "text/x-python",
   "name": "python",
   "nbconvert_exporter": "python",
   "pygments_lexer": "ipython3",
   "version": "3.10.1"
  },
  "orig_nbformat": 4
 },
 "nbformat": 4,
 "nbformat_minor": 2
}
