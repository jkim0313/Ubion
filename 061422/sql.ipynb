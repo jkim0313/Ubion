{
 "cells": [
  {
   "cell_type": "code",
   "execution_count": null,
   "metadata": {},
   "outputs": [],
   "source": [
    "# pip install pymysql"
   ]
  },
  {
   "cell_type": "code",
   "execution_count": 20,
   "metadata": {},
   "outputs": [],
   "source": [
    "import pymysql\n",
    "import pandas as pd"
   ]
  },
  {
   "cell_type": "code",
   "execution_count": 21,
   "metadata": {},
   "outputs": [],
   "source": [
    "_db = pymysql.connect(\n",
    "    user = 'root',\n",
    "    passwd = '0000',\n",
    "    host = 'localhost',\n",
    "    db = 'ubion4',\n",
    "    port = 3306             # mysql의 기본 포트 번호\n",
    ")"
   ]
  },
  {
   "cell_type": "code",
   "execution_count": 22,
   "metadata": {},
   "outputs": [],
   "source": [
    "cursor = _db.cursor(pymysql.cursors.DictCursor)"
   ]
  },
  {
   "cell_type": "code",
   "execution_count": 24,
   "metadata": {},
   "outputs": [
    {
     "data": {
      "text/html": [
       "<div>\n",
       "<style scoped>\n",
       "    .dataframe tbody tr th:only-of-type {\n",
       "        vertical-align: middle;\n",
       "    }\n",
       "\n",
       "    .dataframe tbody tr th {\n",
       "        vertical-align: top;\n",
       "    }\n",
       "\n",
       "    .dataframe thead th {\n",
       "        text-align: right;\n",
       "    }\n",
       "</style>\n",
       "<table border=\"1\" class=\"dataframe\">\n",
       "  <thead>\n",
       "    <tr style=\"text-align: right;\">\n",
       "      <th></th>\n",
       "      <th>날짜</th>\n",
       "      <th>누적사망자</th>\n",
       "      <th>누적확신자</th>\n",
       "    </tr>\n",
       "  </thead>\n",
       "  <tbody>\n",
       "    <tr>\n",
       "      <th>0</th>\n",
       "      <td>2020-03-10 00:00:00.000</td>\n",
       "      <td>54</td>\n",
       "      <td>7513</td>\n",
       "    </tr>\n",
       "    <tr>\n",
       "      <th>1</th>\n",
       "      <td>2020-03-11 00:00:00.000</td>\n",
       "      <td>60</td>\n",
       "      <td>7755</td>\n",
       "    </tr>\n",
       "    <tr>\n",
       "      <th>2</th>\n",
       "      <td>2020-03-12 00:00:00.000</td>\n",
       "      <td>66</td>\n",
       "      <td>7869</td>\n",
       "    </tr>\n",
       "    <tr>\n",
       "      <th>3</th>\n",
       "      <td>2020-03-13 00:00:00.000</td>\n",
       "      <td>67</td>\n",
       "      <td>7979</td>\n",
       "    </tr>\n",
       "    <tr>\n",
       "      <th>4</th>\n",
       "      <td>2020-03-14 00:00:00.000</td>\n",
       "      <td>72</td>\n",
       "      <td>8086</td>\n",
       "    </tr>\n",
       "    <tr>\n",
       "      <th>5</th>\n",
       "      <td>2020-03-15 00:00:00.000</td>\n",
       "      <td>75</td>\n",
       "      <td>8162</td>\n",
       "    </tr>\n",
       "    <tr>\n",
       "      <th>6</th>\n",
       "      <td>2020-03-16 00:00:00.000</td>\n",
       "      <td>75</td>\n",
       "      <td>8236</td>\n",
       "    </tr>\n",
       "    <tr>\n",
       "      <th>7</th>\n",
       "      <td>2020-03-17 00:00:00.000</td>\n",
       "      <td>81</td>\n",
       "      <td>8320</td>\n",
       "    </tr>\n",
       "    <tr>\n",
       "      <th>8</th>\n",
       "      <td>2020-03-18 00:00:00.000</td>\n",
       "      <td>84</td>\n",
       "      <td>8413</td>\n",
       "    </tr>\n",
       "    <tr>\n",
       "      <th>9</th>\n",
       "      <td>2020-03-19 00:00:00.000</td>\n",
       "      <td>91</td>\n",
       "      <td>8565</td>\n",
       "    </tr>\n",
       "  </tbody>\n",
       "</table>\n",
       "</div>"
      ],
      "text/plain": [
       "                        날짜  누적사망자  누적확신자\n",
       "0  2020-03-10 00:00:00.000     54   7513\n",
       "1  2020-03-11 00:00:00.000     60   7755\n",
       "2  2020-03-12 00:00:00.000     66   7869\n",
       "3  2020-03-13 00:00:00.000     67   7979\n",
       "4  2020-03-14 00:00:00.000     72   8086\n",
       "5  2020-03-15 00:00:00.000     75   8162\n",
       "6  2020-03-16 00:00:00.000     75   8236\n",
       "7  2020-03-17 00:00:00.000     81   8320\n",
       "8  2020-03-18 00:00:00.000     84   8413\n",
       "9  2020-03-19 00:00:00.000     91   8565"
      ]
     },
     "execution_count": 24,
     "metadata": {},
     "output_type": "execute_result"
    }
   ],
   "source": [
    "sql = \"\"\"SELECT createDt as 날짜, deathCnt as 누적사망자, \n",
    "         decideCnt as 누적확신자\n",
    "         FROM corona ORDER BY createDt LIMIT 10 \"\"\"\n",
    "\n",
    "cursor.execute(sql)\n",
    "result = cursor.fetchall()\n",
    "# print(result)\n",
    "\n",
    "df_result = pd.DataFrame(result)\n",
    "df_result"
   ]
  },
  {
   "cell_type": "code",
   "execution_count": 26,
   "metadata": {},
   "outputs": [],
   "source": [
    "sql = \"\"\"INSERT INTO test(id, password, name, phone) values (%s, %s, %s, %s)\"\"\"\n",
    "values = [\"test3\", \"1234\", \"kim\", \"01089896767\"]\n",
    "\n",
    "cursor.execute(sql, values)\n",
    "_db.commit()"
   ]
  },
  {
   "cell_type": "code",
   "execution_count": 32,
   "metadata": {},
   "outputs": [],
   "source": [
    "_id = input(\"ID : \")\n",
    "_pw = input(\"password : \")\n",
    "_name = input(\"name : \")\n",
    "_phone = input(\"phone : \")\n",
    "\n",
    "values = [_id, _pw, _name, _phone]\n",
    "cursor.execute(sql, values)\n",
    "_db.commit()"
   ]
  },
  {
   "cell_type": "code",
   "execution_count": 51,
   "metadata": {},
   "outputs": [],
   "source": [
    "### update문 -> input 2개 ID, password\n",
    "### update문 구조, password 변경. where id == input()\n",
    "### sql문 values 지정을 해서 execute commit 코드를 작성\n",
    "\n",
    "sql = \"\"\"UPDATE test set password = %s where id = %s\"\"\"\n",
    "\n",
    "_id = input(\"ID : \")\n",
    "_pw = input(\"password : \")\n",
    "\n",
    "values = [_pw, _id]\n",
    "\n",
    "cursor.execute(sql, values)\n",
    "_db.commit()"
   ]
  },
  {
   "cell_type": "code",
   "execution_count": 56,
   "metadata": {},
   "outputs": [],
   "source": [
    "sql = \"\"\" SELECT %s and %s from test \"\"\"\n",
    "\n",
    "_id = input(\"ID column : \")\n",
    "_pw = input(\"password column : \")\n",
    "\n",
    "values = [_id, _pw]\n",
    "cursor.execute(sql, values)\n",
    "\n",
    "_db.commit()"
   ]
  },
  {
   "cell_type": "code",
   "execution_count": 59,
   "metadata": {},
   "outputs": [],
   "source": [
    "sql = \"\"\"DELETE from test where ID = %s\"\"\"\n",
    "\n",
    "_id = input(\"ID : \")\n",
    "\n",
    "values = [_id]\n",
    "cursor.execute(sql, values)\n",
    "\n",
    "_db.commit()"
   ]
  },
  {
   "cell_type": "code",
   "execution_count": null,
   "metadata": {},
   "outputs": [],
   "source": []
  }
 ],
 "metadata": {
  "interpreter": {
   "hash": "664601c8c9e5ea170ac235a51849067b39cba8c284ace64cc1dec43cb5b20d30"
  },
  "kernelspec": {
   "display_name": "Python 3.10.1 64-bit",
   "language": "python",
   "name": "python3"
  },
  "language_info": {
   "codemirror_mode": {
    "name": "ipython",
    "version": 3
   },
   "file_extension": ".py",
   "mimetype": "text/x-python",
   "name": "python",
   "nbconvert_exporter": "python",
   "pygments_lexer": "ipython3",
   "version": "3.10.1"
  },
  "orig_nbformat": 4
 },
 "nbformat": 4,
 "nbformat_minor": 2
}
