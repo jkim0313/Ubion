{
 "cells": [
  {
   "cell_type": "markdown",
   "metadata": {},
   "source": [
    "1번 문제\n",
    "========\n",
    "1. num_1 폴더의 uriage 파일을 pandas를 이용하여 데이터프레임으로 불러온다. \n",
    "2. purchase_date 컬럼의 데이터 타입을 datetime을 변경한다. \n",
    "3. item_name 컬럼의 값을 대문자로 변경한다. \n",
    "4. item_name 컬럼의 공백을 지워준다. \n",
    "5. item_name 컬럼을 기준으로 오름차순 정렬한다. \n",
    "6. 데이터의 결측치가 존재하는지 확인한다. \n",
    "7. item_price 컬럼의 결측치의 값을 해당하는 item_name의 맥스값으로 치환하여 준다. "
   ]
  },
  {
   "cell_type": "code",
   "execution_count": null,
   "metadata": {},
   "outputs": [],
   "source": []
  },
  {
   "cell_type": "markdown",
   "metadata": {},
   "source": [
    "2번 문제 \n",
    "===========\n",
    "\n",
    "1. transaction 폴더 내에 있는 csv 파일을 모두 데이터프렘으로 불러온다. \n",
    "2. transaction_1과 transaction_2를 유니언 결합을 한다. \n",
    "3. transaction_detail_1과 transaction_detail_2를 유니언 결합을 한다. \n",
    "4. 2,3 번의 데이터프레임의 값을 조인 결합을 한다. \n",
    "5. 4번 작업한 데이터프레임을 customer_master, item_master 와 조인 결합한다. \n",
    "6. quantity와 item_price의 곱한 값으로 price라는 컬럼을 생성한다. \n",
    "7. payment_date컬럼의 데이터형태를 datetime으로 변경한다. \n",
    "8. payment_date값의 년 월값만 추출하여 payment_month 컬럼을 생성한다. \n",
    "9. groupby를 이용하여 월별, 상품별 price와 quantity의 합계를 출력한다. \n"
   ]
  },
  {
   "cell_type": "code",
   "execution_count": null,
   "metadata": {},
   "outputs": [],
   "source": []
  },
  {
   "cell_type": "markdown",
   "metadata": {},
   "source": [
    "3번 문제\n",
    "==========\n",
    "\n",
    "1. num_3 폴더내의 drink 파일을 데이터프레임으로 불러온다. \n",
    "2. 대륙 컬럼인 continent 결측 데이터를 OT로 지정한다. \n",
    "3. 대륙별 spirit_servings의 평균, 최소, 최대, 합계를 계산한다. \n",
    "4. 전체 평균보다 많은 알코올 섭취하는 대륙을 구한다. \n",
    "5. 3번 과정의 데이터를 바그래프를 이용하여 시각화 한다. "
   ]
  },
  {
   "cell_type": "code",
   "execution_count": null,
   "metadata": {},
   "outputs": [],
   "source": []
  }
 ],
 "metadata": {
  "language_info": {
   "name": "python"
  },
  "orig_nbformat": 4
 },
 "nbformat": 4,
 "nbformat_minor": 2
}
