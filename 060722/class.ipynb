{
 "cells": [
  {
   "cell_type": "code",
   "execution_count": 1,
   "metadata": {},
   "outputs": [],
   "source": [
    "class Class_1():            # Class_1 클래스 생성\n",
    "    def func_1(self):\n",
    "        print(\"Class_1 Call\")\n",
    "    "
   ]
  },
  {
   "cell_type": "code",
   "execution_count": 2,
   "metadata": {},
   "outputs": [],
   "source": [
    "x = Class_1()"
   ]
  },
  {
   "cell_type": "code",
   "execution_count": 3,
   "metadata": {},
   "outputs": [
    {
     "name": "stdout",
     "output_type": "stream",
     "text": [
      "Class_1 Call\n"
     ]
    }
   ],
   "source": [
    "x.func_1()          # Class 내 func_1() 함수에는 매개변수 self\n",
    "                    # 함수 호출할 때 매개변수에 기본값이 정의가 되지 않았는데\n",
    "                    # 인자값을 안넣어도 실행됨\n",
    "                    # class 내에 self는 "
   ]
  },
  {
   "cell_type": "code",
   "execution_count": 11,
   "metadata": {},
   "outputs": [
    {
     "name": "stdout",
     "output_type": "stream",
     "text": [
      "test 20\n"
     ]
    }
   ],
   "source": [
    "class Class_2():\n",
    "    def __init__(self, x, y):\n",
    "        self.x = x\n",
    "        self.y = y\n",
    "\n",
    "x = Class_2(\"test\", 20)\n",
    "print(x.x, x.y)"
   ]
  },
  {
   "cell_type": "code",
   "execution_count": 14,
   "metadata": {},
   "outputs": [
    {
     "name": "stdout",
     "output_type": "stream",
     "text": [
      "test 20 test2 50\n"
     ]
    }
   ],
   "source": [
    "y = Class_2(\"test2\", 50)\n",
    "print(x.x, x.y, y.x,y.y)"
   ]
  },
  {
   "cell_type": "code",
   "execution_count": 22,
   "metadata": {},
   "outputs": [
    {
     "name": "stdout",
     "output_type": "stream",
     "text": [
      "9 12\n"
     ]
    }
   ],
   "source": [
    "class Class_3():\n",
    "    def __init__(self, input_a, input_b):\n",
    "        self.input_a = input_a\n",
    "        self.input_b = input_b\n",
    "    \n",
    "    def func_1(self):\n",
    "        self.result = self.input_a + self.input_b\n",
    "        \n",
    "        return self.result\n",
    "    \n",
    "test = Class_3(5, 4)\n",
    "## self.a, self.b 어떠한 값이 될까\n",
    "## Class_3()이라는 클래스를 test라는 변수에 선언\n",
    "## Class_3() 선언이 될 때 실행이 되는 함수는? -> Class_3()안에 존재하는 __init__함수가 실행\n",
    "## __init__()이라는 함수는 어떤 행동? -> \n",
    "\n",
    "test.func_1()\n",
    "\n",
    "test2 = Class_3(10,2 )\n",
    "\n",
    "print(test.func_1(), test2.func_1())"
   ]
  },
  {
   "cell_type": "code",
   "execution_count": 28,
   "metadata": {},
   "outputs": [
    {
     "name": "stdout",
     "output_type": "stream",
     "text": [
      "Kim Lee\n",
      "['01012345678', '01098765432'] ['01012345678', '01098765432']\n"
     ]
    }
   ],
   "source": [
    "class Class_4():\n",
    "    list = []\n",
    "    def __init__(self, _name):\n",
    "        self.name = _name\n",
    "    def add_list(self, _phone):\n",
    "        self.list.append(_phone)\n",
    "\n",
    "test = Class_4(\"Kim\")\n",
    "test2 = Class_4(\"Lee\")\n",
    "test.add_list('01012345678')\n",
    "test2.add_list(\"01098765432\")\n",
    "print(test.name, test2.name)\n",
    "print(test.list, test2.list)\n"
   ]
  },
  {
   "cell_type": "code",
   "execution_count": 32,
   "metadata": {},
   "outputs": [
    {
     "name": "stdout",
     "output_type": "stream",
     "text": [
      "2657148308144 2657148282032\n"
     ]
    }
   ],
   "source": [
    "print(id(test.name), id(test2.name))            # 주소값"
   ]
  },
  {
   "cell_type": "code",
   "execution_count": 34,
   "metadata": {},
   "outputs": [
    {
     "name": "stdout",
     "output_type": "stream",
     "text": [
      "2657148861888 2657148861888\n"
     ]
    }
   ],
   "source": [
    "print(id(test.list), id(test2.list))"
   ]
  },
  {
   "cell_type": "markdown",
   "metadata": {},
   "source": [
    "1. class 생성 (Class_5())\n",
    "2. __init__ 함수에서 self를 제외한 값을 2개 클래스가 선언이될 때 받아올 것.\n",
    "3. 메서드를 3개 추가\n",
    "4. 2개의 값을 합, 값의 차, 값의 곱을 구하는 함수"
   ]
  },
  {
   "cell_type": "code",
   "execution_count": 38,
   "metadata": {},
   "outputs": [
    {
     "name": "stdout",
     "output_type": "stream",
     "text": [
      "8\n",
      "-2\n",
      "15\n"
     ]
    }
   ],
   "source": [
    "class Class_5():                    # class 생성\n",
    "    def __init__(self, x, y):       # __init__ 함수\n",
    "        self.x = x\n",
    "        self.y = y\n",
    "        \n",
    "    def func_1(self):               # 합을 구하는 함수\n",
    "        self.sum = self.x + self.y\n",
    "        \n",
    "        return self.sum\n",
    "    \n",
    "    def func_2(self):               # 차를 구하는 함수\n",
    "        self.sub = self.x - self.y\n",
    "        \n",
    "        return self.sub\n",
    "    \n",
    "    def func_3(self):               # 곱을 구하는 함수\n",
    "        self.mult = self.x * self.y\n",
    "        \n",
    "        return self.mult\n",
    "\n",
    "test = Class_5(3, 5)\n",
    "\n",
    "print(test.func_1())\n",
    "print(test.func_2())\n",
    "print(test.func_3())\n"
   ]
  },
  {
   "cell_type": "code",
   "execution_count": 43,
   "metadata": {},
   "outputs": [
    {
     "name": "stdout",
     "output_type": "stream",
     "text": [
      "4.0\n",
      "25\n",
      "25\n"
     ]
    }
   ],
   "source": [
    "class Class_6(Class_5):\n",
    "    def func_4(self):\n",
    "        return self.x / self.y\n",
    "\n",
    "test = Class_6(20, 5)\n",
    "print(test.func_4())\n",
    "print(test.func_1())\n",
    "\n",
    "test2 = Class_5(20, 5)\n",
    "print(test2.func_1())"
   ]
  },
  {
   "cell_type": "code",
   "execution_count": null,
   "metadata": {},
   "outputs": [],
   "source": []
  }
 ],
 "metadata": {
  "interpreter": {
   "hash": "664601c8c9e5ea170ac235a51849067b39cba8c284ace64cc1dec43cb5b20d30"
  },
  "kernelspec": {
   "display_name": "Python 3.10.1 64-bit",
   "language": "python",
   "name": "python3"
  },
  "language_info": {
   "codemirror_mode": {
    "name": "ipython",
    "version": 3
   },
   "file_extension": ".py",
   "mimetype": "text/x-python",
   "name": "python",
   "nbconvert_exporter": "python",
   "pygments_lexer": "ipython3",
   "version": "3.10.1"
  },
  "orig_nbformat": 4
 },
 "nbformat": 4,
 "nbformat_minor": 2
}
