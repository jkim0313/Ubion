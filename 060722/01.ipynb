{
 "cells": [
  {
   "cell_type": "markdown",
   "metadata": {},
   "source": [
    "1. python 변수 -> 데이터를 저장하는 공간.\n",
    "2. 조건문\n",
    "3. 반복문\n",
    "4. 함수"
   ]
  },
  {
   "cell_type": "code",
   "execution_count": null,
   "metadata": {},
   "outputs": [],
   "source": [
    "# 변수를 선언하는 방법?\n",
    "\n",
    "a = 5           # 숫자 형태의 데이터\n",
    "b = \"Hello\"     # 문자 형태의 데이터 -> \"\" or ''로 묶어서 표현\n",
    "c = 3.14        # float 형태의 데이터\n",
    "d = True        # bool(참/거짓) 형태의 데이터 -> 대개 사용하는 곳이 어디인가? / 조건문, 반복문"
   ]
  },
  {
   "cell_type": "code",
   "execution_count": 2,
   "metadata": {},
   "outputs": [
    {
     "name": "stdout",
     "output_type": "stream",
     "text": [
      "8 2 15 1.6666666666666667 1 2 125\n"
     ]
    }
   ],
   "source": [
    "# 연산자 + - * / %\n",
    "\n",
    "x = 5\n",
    "y = 3\n",
    "\n",
    "print(x+y, x-y, x*y, x/y, x//y, x%y, x**y)"
   ]
  },
  {
   "cell_type": "code",
   "execution_count": 3,
   "metadata": {},
   "outputs": [
    {
     "name": "stdout",
     "output_type": "stream",
     "text": [
      "HelloWorld\n"
     ]
    }
   ],
   "source": [
    "a = \"Hello\"\n",
    "b = \"World\"\n",
    "\n",
    "print(a + b)"
   ]
  },
  {
   "cell_type": "code",
   "execution_count": 4,
   "metadata": {},
   "outputs": [
    {
     "name": "stdout",
     "output_type": "stream",
     "text": [
      "8\n"
     ]
    }
   ],
   "source": [
    "# 대입연산자 +=, -=, *=, /=, //=, %=, **=\n",
    "# a += b --< a = a + b\n",
    "\n",
    "x += y      # x = x + y\n",
    "\n",
    "print(x)"
   ]
  },
  {
   "cell_type": "code",
   "execution_count": 5,
   "metadata": {},
   "outputs": [
    {
     "name": "stdout",
     "output_type": "stream",
     "text": [
      "False True True False\n"
     ]
    }
   ],
   "source": [
    "# 관계연산자 -> ==, !=, >, >=, <, <=\n",
    "# 관계연산자는 결과값이 참 / 거짓의 형태로 출력\n",
    "# 조건문과 반복문에서 주로 사용\n",
    "\n",
    "x = 5 \n",
    "y = 3\n",
    "z = 5\n",
    "\n",
    "print(x==y, x!=y, x>y, x<y)"
   ]
  },
  {
   "cell_type": "code",
   "execution_count": 6,
   "metadata": {},
   "outputs": [
    {
     "name": "stdout",
     "output_type": "stream",
     "text": [
      "x는 10 보다 작다.\n"
     ]
    }
   ],
   "source": [
    "# if 조건문\n",
    "# if 뒤에 조건식이 참인 경우 if절의 코드를 실행\n",
    "# 거짓인 경우 else절의 코드 실행\n",
    "\n",
    "x = 5\n",
    "\n",
    "if x < 10:\n",
    "    print(\"x는 10 보다 작다.\")\n",
    "else:\n",
    "    print(\"x는 10 보다 크거나 같다.\")"
   ]
  },
  {
   "cell_type": "code",
   "execution_count": 8,
   "metadata": {},
   "outputs": [
    {
     "name": "stdout",
     "output_type": "stream",
     "text": [
      "0\n",
      "1\n",
      "2\n",
      "3\n",
      "4\n"
     ]
    }
   ],
   "source": [
    "# 반복문 for, while\n",
    "# for문 -> for 변수명 in range(시작값, 종료값, 증감값):\n",
    "\n",
    "for i in range(0, 5, 1):\n",
    "    print(i)"
   ]
  },
  {
   "cell_type": "code",
   "execution_count": 9,
   "metadata": {},
   "outputs": [
    {
     "name": "stdout",
     "output_type": "stream",
     "text": [
      "5\n",
      "7\n",
      "2\n",
      "9\n",
      "1\n"
     ]
    }
   ],
   "source": [
    "_list = [5, 7, 2, 9, 1]\n",
    "\n",
    "for i in _list:\n",
    "    print(i)"
   ]
  },
  {
   "cell_type": "code",
   "execution_count": 11,
   "metadata": {},
   "outputs": [
    {
     "name": "stdout",
     "output_type": "stream",
     "text": [
      "0 1 2 3 4 5 6 7 8 9 "
     ]
    }
   ],
   "source": [
    "# while 반복문\n",
    "\n",
    "i = 0\n",
    "while i < 10:\n",
    "    print(i, end=\" \")\n",
    "    i += 1\n",
    "    # i -= 1 잘못된 증감식\n",
    "    \n",
    "# 반복문을 사용할 때 조심해야될 점? 무한반복을 피하기 위한 범위의 설정(조건식이 거짓이 되는걸 확인.)\n"
   ]
  },
  {
   "cell_type": "code",
   "execution_count": 13,
   "metadata": {},
   "outputs": [
    {
     "name": "stdout",
     "output_type": "stream",
     "text": [
      "5 6 7 8 9 10 11 12 13 14 "
     ]
    }
   ],
   "source": [
    "# break -> 반복문에서 반복을 중지\n",
    "# continue -> 반복문으로 돌아간다.\n",
    "\n",
    "for i in range(0, 20, 1):\n",
    "    if i < 5:\n",
    "        continue\n",
    "    elif i == 15:\n",
    "        break\n",
    "    else:\n",
    "        print(i, end= \" \")"
   ]
  },
  {
   "cell_type": "code",
   "execution_count": 15,
   "metadata": {},
   "outputs": [
    {
     "name": "stdout",
     "output_type": "stream",
     "text": [
      "(3, 5, 1)\n",
      "[1, 2, 3]\n",
      "{'name': 'test', 'age': '20'}\n"
     ]
    }
   ],
   "source": [
    "# 튜플\n",
    "# 리스트\n",
    "# 딕셔너리\n",
    "\n",
    "_tuple = (3,5,1)\n",
    "print(_tuple)\n",
    "_list = [1,2,3,]\n",
    "print(_list)\n",
    "_dict = {\"name\" : \"test\", \"age\":\"20\"}\n",
    "print(_dict)"
   ]
  },
  {
   "cell_type": "code",
   "execution_count": 16,
   "metadata": {},
   "outputs": [
    {
     "name": "stdout",
     "output_type": "stream",
     "text": [
      "func_1 Call\n"
     ]
    }
   ],
   "source": [
    "# 함수의 기능 -> 일정 코드를 반복적으로 사용할 때 그코드들의 데이터와 불러오는 기능\n",
    "# 매개변수를 통해서 결과물의 값이 달라지는ㄱ ㅕㅇ우가 존재\n",
    "\n",
    "def func_1():\n",
    "    print(\"func_1 Call\")\n",
    "    \n",
    "func_1()"
   ]
  },
  {
   "cell_type": "code",
   "execution_count": 17,
   "metadata": {},
   "outputs": [
    {
     "name": "stdout",
     "output_type": "stream",
     "text": [
      "12\n",
      "5\n"
     ]
    }
   ],
   "source": [
    "def func_2(x, y):\n",
    "    result = x + y\n",
    "    print(result)\n",
    "    \n",
    "func_2(5, 7)\n",
    "func_2(1, 4)    "
   ]
  },
  {
   "cell_type": "code",
   "execution_count": 18,
   "metadata": {},
   "outputs": [],
   "source": [
    "# 지역 변수 / 전역 변수\n",
    "\n",
    "result = \"Hello\"\n",
    "\n",
    "def func_3():\n",
    "    func_result = \"function\"\n",
    "    return func_result\n",
    "\n",
    "print(func_3())\n",
    "print(result)\n",
    "print(func_result)"
   ]
  },
  {
   "cell_type": "markdown",
   "metadata": {},
   "source": [
    "1.  func_4()를 생성\n",
    "2. 매개변수를 2개 생성 (x,y)\n",
    "3. x,y 값이 숫자 형태인지 확인(int)\n",
    "4. x부터 y까지의 합계"
   ]
  },
  {
   "cell_type": "code",
   "execution_count": 19,
   "metadata": {},
   "outputs": [
    {
     "name": "stdout",
     "output_type": "stream",
     "text": [
      "<class 'int'>\n",
      "<class 'str'>\n"
     ]
    }
   ],
   "source": [
    "a = 10\n",
    "b = \"Hello\"\n",
    "print(type(a))\n",
    "print(type(b))"
   ]
  },
  {
   "cell_type": "code",
   "execution_count": 34,
   "metadata": {},
   "outputs": [
    {
     "name": "stdout",
     "output_type": "stream",
     "text": [
      "5\n",
      "not number\n"
     ]
    }
   ],
   "source": [
    "def func_4(x, y):\n",
    "    if type(x) == int and type(y) == int:\n",
    "        sum = 0\n",
    "        for i in range(x, y+1, 1):\n",
    "            sum += 1\n",
    "        return sum\n",
    "    else:\n",
    "        return(\"wrong type\")\n",
    "\n",
    "print(func_4(1, 5))\n",
    "print(func_4(1, \"hello\"))"
   ]
  },
  {
   "cell_type": "code",
   "execution_count": 35,
   "metadata": {},
   "outputs": [
    {
     "name": "stdout",
     "output_type": "stream",
     "text": [
      "8\n",
      "15\n"
     ]
    }
   ],
   "source": [
    "def func_5(x, y=3):\n",
    "    print(x+y)\n",
    "    \n",
    "func_5(5)\n",
    "func_5(5, 10)"
   ]
  },
  {
   "cell_type": "markdown",
   "metadata": {},
   "source": [
    "1. 함수 생성 func_6()\n",
    "2. 매개 변수 x, y 선언\n",
    "3. x가 y보다 크면 두 수의 차\n",
    "4. x가 y보다 작으면 두 수의 합\n",
    "5. x와 y가 같으면 0을 되돌려준다\n",
    "6. y의 기본값은 10"
   ]
  },
  {
   "cell_type": "code",
   "execution_count": 38,
   "metadata": {},
   "outputs": [
    {
     "name": "stdout",
     "output_type": "stream",
     "text": [
      "4\n",
      "15\n",
      "10\n"
     ]
    }
   ],
   "source": [
    "def func_6(x, y=10):\n",
    "    if x > y:\n",
    "        return x-y\n",
    "    elif x < y:\n",
    "        return x+y\n",
    "    else:\n",
    "        return 0\n",
    "    \n",
    "print(func_6(5, 1))\n",
    "print(func_6(15, 0))\n",
    "print(func_6(10, 0))\n",
    "\n",
    "# 함수 내 return 대신 print 사용시 반환되는값이 없기때문에 None이 출력된다."
   ]
  },
  {
   "cell_type": "markdown",
   "metadata": {},
   "source": [
    "1. 함수 생성 func_7()\n",
    "2. 매개변수 1개\n",
    "3. 구구단 출력 함수, 인자값에 단의 수\n",
    "4. print()로 구현"
   ]
  },
  {
   "cell_type": "code",
   "execution_count": 71,
   "metadata": {},
   "outputs": [
    {
     "name": "stdout",
     "output_type": "stream",
     "text": [
      "2 X 1 = 2\n",
      "2 X 2 = 4\n",
      "2 X 3 = 6\n",
      "2 X 4 = 8\n",
      "2 X 5 = 10\n",
      "2 X 6 = 12\n",
      "2 X 7 = 14\n",
      "2 X 8 = 16\n",
      "2 X 9 = 18\n"
     ]
    }
   ],
   "source": [
    "def func_7(x):\n",
    "    for i in range(1, 10, 1):\n",
    "        # print(x, \"*\", i, \"=\", x*i)\n",
    "        # print(\"%d X %d = %d\" %(x, i, x*i))\n",
    "        print(f'{x} X {i} = {x*i}')     # f-string 사용법 {변수}를 사용하면 변수의 값을 넣어준다.\n",
    "\n",
    "func_7(2)\n"
   ]
  },
  {
   "cell_type": "code",
   "execution_count": null,
   "metadata": {},
   "outputs": [],
   "source": []
  },
  {
   "cell_type": "code",
   "execution_count": null,
   "metadata": {},
   "outputs": [],
   "source": []
  }
 ],
 "metadata": {
  "interpreter": {
   "hash": "664601c8c9e5ea170ac235a51849067b39cba8c284ace64cc1dec43cb5b20d30"
  },
  "kernelspec": {
   "display_name": "Python 3.10.1 64-bit",
   "language": "python",
   "name": "python3"
  },
  "language_info": {
   "codemirror_mode": {
    "name": "ipython",
    "version": 3
   },
   "file_extension": ".py",
   "mimetype": "text/x-python",
   "name": "python",
   "nbconvert_exporter": "python",
   "pygments_lexer": "ipython3",
   "version": "3.10.1"
  },
  "orig_nbformat": 4
 },
 "nbformat": 4,
 "nbformat_minor": 2
}
