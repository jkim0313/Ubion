{
 "cells": [
  {
   "cell_type": "markdown",
   "metadata": {},
   "source": [
    "### 1번 문제\n",
    "\n",
    "1. num_1 폴더의 파일을 데이터프레임으로 불러온다.\n",
    "2. 데이터프레임의 오류를 확인하고 오류를 수정한다. (item_price의 결측치는 해당 item_name의 item_price의 최대값으로 변경해준다.)\n",
    "3. 2개의 데이터프레임을 고객의 이름으로 조인 결합한다. \n",
    "4. 3번 과정의 결합한 데이터월 '년월' 컬럼을 추가한다. \n",
    "5. '년월' 컬럼을 기준으로 pivot_table을 이용하여 'item_name','itme_price'별 'item_price', '고객이름', '지역' 순으로 데이터를 집계한다. "
   ]
  },
  {
   "cell_type": "code",
   "execution_count": null,
   "metadata": {},
   "outputs": [],
   "source": []
  },
  {
   "cell_type": "markdown",
   "metadata": {},
   "source": [
    "### 2번 문제\n",
    "\n",
    "1. num_2폴더의 'market-price.csv' 파일을 데이터프레임으로 불러온다. \n",
    "2. 불러온 데이터프레임의 'day'컬럼의 데이터 값을 datetime으로 변경하고 인덱스로 설정한다. \n",
    "3. 데이터프레임을 시각화한다. \n",
    "4. (AR=2, 차분=1, MA=2) 파라미터로 ARIMA 모델을 학습한다. \n",
    "5. 학습한 모델이 학습 데이터에 대해서 예측한 결과만을 시각화한다. \n",
    "6. 예측 결과의 마지막 5일과 실제 5일후의 데이터의 비교하여본다. (실제 5일의 데이터는 num_2폴더의 'market-price-test.csv'에 있다.)\n",
    "7. 예측 결과의 RMSE를 구한다.\n",
    "8. prophet을 이용하여 ARIMA모델과 같이 5일후의 데이터를 예측해본다. (\n",
    "\n",
    "    ```\n",
    "    prophet = Prophet(seasonality_mode='multiplicative', \n",
    "                  yearly_seasonality=True,\n",
    "                  weekly_seasonality=True, daily_seasonality=True,\n",
    "                  changepoint_prior_scale=0.5)\n",
    "    ```\n",
    "    \n",
    "    prophet의 기본설정은 다음과 같이 한다. \n",
    ")\n",
    "9. 예측 결과의 RMSE를 구한다. \n",
    "10. 예측 결과의 더 나은 결과를 내는 방법을 생각해본다. "
   ]
  },
  {
   "cell_type": "code",
   "execution_count": null,
   "metadata": {},
   "outputs": [],
   "source": []
  }
 ],
 "metadata": {
  "language_info": {
   "name": "python"
  },
  "orig_nbformat": 4
 },
 "nbformat": 4,
 "nbformat_minor": 2
}
